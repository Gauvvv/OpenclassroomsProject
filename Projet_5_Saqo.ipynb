{
  "cells": [
    {
      "cell_type": "markdown",
      "metadata": {
        "id": "view-in-github",
        "colab_type": "text"
      },
      "source": [
        "<a href=\"https://colab.research.google.com/github/Gauvvv/OpenclassroomsProject/blob/main/Projet_5_Saqo.ipynb\" target=\"_parent\"><img src=\"https://colab.research.google.com/assets/colab-badge.svg\" alt=\"Open In Colab\"/></a>"
      ]
    },
    {
      "cell_type": "markdown",
      "metadata": {
        "id": "EX7k7CDT_OkO"
      },
      "source": [
        "<b style=\"font-weight: bold; font-size:30px\">Préambule </b>"
      ]
    },
    {
      "cell_type": "markdown",
      "metadata": {
        "id": "qZwYTfTc_Okb"
      },
      "source": [
        "# - Importation des librairies & des variables d'aides"
      ]
    },
    {
      "cell_type": "code",
      "execution_count": null,
      "metadata": {
        "id": "rFfDTEfc_Okb"
      },
      "outputs": [],
      "source": [
        "# But du code : Importer les principales librairies pour réutiliser des fonctionnalités de ces librairies.\n",
        "# 1-1- Library\n",
        "\n",
        "import pandas as pd\n",
        "import numpy as np\n",
        "\n",
        "import matplotlib.pyplot as plt\n",
        "import seaborn as sns\n",
        "\n",
        "import sklearn\n",
        "\n",
        "# 1-2- Paramétrage (optionnelle)\n",
        "# warnings.simplefilter permet d'ignorer des warnings inutiles (exemple : la fonction subplots affiche un warning inutile)\n",
        "import warnings\n",
        "warnings.simplefilter(\"ignore\")\n",
        "\n",
        "# 1-3- Variables d'aides\n",
        "class color:\n",
        "    BOLD = '\\033[1m'\n",
        "    END = '\\033[0m'"
      ]
    },
    {
      "cell_type": "markdown",
      "metadata": {
        "id": "XPcFVvrA_Okd"
      },
      "source": [
        "# - Data Processing"
      ]
    },
    {
      "cell_type": "markdown",
      "metadata": {
        "id": "NtiDeLhR_Okf"
      },
      "source": [
        "## - Data loading"
      ]
    },
    {
      "cell_type": "code",
      "execution_count": null,
      "metadata": {
        "colab": {
          "base_uri": "https://localhost:8080/",
          "height": 398
        },
        "id": "epzSJslC_Okg",
        "outputId": "ddc46696-f0d7-42f1-8b73-6a42e2e00dd1"
      },
      "outputs": [
        {
          "output_type": "error",
          "ename": "FileNotFoundError",
          "evalue": "ignored",
          "traceback": [
            "\u001b[0;31m---------------------------------------------------------------------------\u001b[0m",
            "\u001b[0;31mFileNotFoundError\u001b[0m                         Traceback (most recent call last)",
            "\u001b[0;32m<ipython-input-2-32019564b8ef>\u001b[0m in \u001b[0;36m<module>\u001b[0;34m()\u001b[0m\n\u001b[1;32m      3\u001b[0m \u001b[0;34m\u001b[0m\u001b[0m\n\u001b[1;32m      4\u001b[0m \u001b[0;31m### 2.1- Importation des données\u001b[0m\u001b[0;34m\u001b[0m\u001b[0;34m\u001b[0m\u001b[0;34m\u001b[0m\u001b[0m\n\u001b[0;32m----> 5\u001b[0;31m \u001b[0mdataset\u001b[0m \u001b[0;34m=\u001b[0m \u001b[0mpd\u001b[0m\u001b[0;34m.\u001b[0m\u001b[0mread_excel\u001b[0m\u001b[0;34m(\u001b[0m\u001b[0;34m\"DATABASE_PROJECT_5_VF.xlsx\"\u001b[0m\u001b[0;34m)\u001b[0m\u001b[0;34m\u001b[0m\u001b[0;34m\u001b[0m\u001b[0m\n\u001b[0m\u001b[1;32m      6\u001b[0m \u001b[0;31m# set_index permet de dire à Python que l'identifiant de la table dataset est la colonne Loan_Id\u001b[0m\u001b[0;34m\u001b[0m\u001b[0;34m\u001b[0m\u001b[0;34m\u001b[0m\u001b[0m\n\u001b[1;32m      7\u001b[0m \u001b[0mdataset\u001b[0m\u001b[0;34m.\u001b[0m\u001b[0mset_index\u001b[0m\u001b[0;34m(\u001b[0m\u001b[0;34m\"Id\"\u001b[0m\u001b[0;34m,\u001b[0m \u001b[0minplace\u001b[0m\u001b[0;34m=\u001b[0m\u001b[0;32mTrue\u001b[0m\u001b[0;34m)\u001b[0m\u001b[0;34m\u001b[0m\u001b[0;34m\u001b[0m\u001b[0m\n",
            "\u001b[0;32m/usr/local/lib/python3.7/dist-packages/pandas/util/_decorators.py\u001b[0m in \u001b[0;36mwrapper\u001b[0;34m(*args, **kwargs)\u001b[0m\n\u001b[1;32m    309\u001b[0m                     \u001b[0mstacklevel\u001b[0m\u001b[0;34m=\u001b[0m\u001b[0mstacklevel\u001b[0m\u001b[0;34m,\u001b[0m\u001b[0;34m\u001b[0m\u001b[0;34m\u001b[0m\u001b[0m\n\u001b[1;32m    310\u001b[0m                 )\n\u001b[0;32m--> 311\u001b[0;31m             \u001b[0;32mreturn\u001b[0m \u001b[0mfunc\u001b[0m\u001b[0;34m(\u001b[0m\u001b[0;34m*\u001b[0m\u001b[0margs\u001b[0m\u001b[0;34m,\u001b[0m \u001b[0;34m**\u001b[0m\u001b[0mkwargs\u001b[0m\u001b[0;34m)\u001b[0m\u001b[0;34m\u001b[0m\u001b[0;34m\u001b[0m\u001b[0m\n\u001b[0m\u001b[1;32m    312\u001b[0m \u001b[0;34m\u001b[0m\u001b[0m\n\u001b[1;32m    313\u001b[0m         \u001b[0;32mreturn\u001b[0m \u001b[0mwrapper\u001b[0m\u001b[0;34m\u001b[0m\u001b[0;34m\u001b[0m\u001b[0m\n",
            "\u001b[0;32m/usr/local/lib/python3.7/dist-packages/pandas/io/excel/_base.py\u001b[0m in \u001b[0;36mread_excel\u001b[0;34m(io, sheet_name, header, names, index_col, usecols, squeeze, dtype, engine, converters, true_values, false_values, skiprows, nrows, na_values, keep_default_na, na_filter, verbose, parse_dates, date_parser, thousands, comment, skipfooter, convert_float, mangle_dupe_cols, storage_options)\u001b[0m\n\u001b[1;32m    362\u001b[0m     \u001b[0;32mif\u001b[0m \u001b[0;32mnot\u001b[0m \u001b[0misinstance\u001b[0m\u001b[0;34m(\u001b[0m\u001b[0mio\u001b[0m\u001b[0;34m,\u001b[0m \u001b[0mExcelFile\u001b[0m\u001b[0;34m)\u001b[0m\u001b[0;34m:\u001b[0m\u001b[0;34m\u001b[0m\u001b[0;34m\u001b[0m\u001b[0m\n\u001b[1;32m    363\u001b[0m         \u001b[0mshould_close\u001b[0m \u001b[0;34m=\u001b[0m \u001b[0;32mTrue\u001b[0m\u001b[0;34m\u001b[0m\u001b[0;34m\u001b[0m\u001b[0m\n\u001b[0;32m--> 364\u001b[0;31m         \u001b[0mio\u001b[0m \u001b[0;34m=\u001b[0m \u001b[0mExcelFile\u001b[0m\u001b[0;34m(\u001b[0m\u001b[0mio\u001b[0m\u001b[0;34m,\u001b[0m \u001b[0mstorage_options\u001b[0m\u001b[0;34m=\u001b[0m\u001b[0mstorage_options\u001b[0m\u001b[0;34m,\u001b[0m \u001b[0mengine\u001b[0m\u001b[0;34m=\u001b[0m\u001b[0mengine\u001b[0m\u001b[0;34m)\u001b[0m\u001b[0;34m\u001b[0m\u001b[0;34m\u001b[0m\u001b[0m\n\u001b[0m\u001b[1;32m    365\u001b[0m     \u001b[0;32melif\u001b[0m \u001b[0mengine\u001b[0m \u001b[0;32mand\u001b[0m \u001b[0mengine\u001b[0m \u001b[0;34m!=\u001b[0m \u001b[0mio\u001b[0m\u001b[0;34m.\u001b[0m\u001b[0mengine\u001b[0m\u001b[0;34m:\u001b[0m\u001b[0;34m\u001b[0m\u001b[0;34m\u001b[0m\u001b[0m\n\u001b[1;32m    366\u001b[0m         raise ValueError(\n",
            "\u001b[0;32m/usr/local/lib/python3.7/dist-packages/pandas/io/excel/_base.py\u001b[0m in \u001b[0;36m__init__\u001b[0;34m(self, path_or_buffer, engine, storage_options)\u001b[0m\n\u001b[1;32m   1190\u001b[0m             \u001b[0;32melse\u001b[0m\u001b[0;34m:\u001b[0m\u001b[0;34m\u001b[0m\u001b[0;34m\u001b[0m\u001b[0m\n\u001b[1;32m   1191\u001b[0m                 ext = inspect_excel_format(\n\u001b[0;32m-> 1192\u001b[0;31m                     \u001b[0mcontent_or_path\u001b[0m\u001b[0;34m=\u001b[0m\u001b[0mpath_or_buffer\u001b[0m\u001b[0;34m,\u001b[0m \u001b[0mstorage_options\u001b[0m\u001b[0;34m=\u001b[0m\u001b[0mstorage_options\u001b[0m\u001b[0;34m\u001b[0m\u001b[0;34m\u001b[0m\u001b[0m\n\u001b[0m\u001b[1;32m   1193\u001b[0m                 )\n\u001b[1;32m   1194\u001b[0m                 \u001b[0;32mif\u001b[0m \u001b[0mext\u001b[0m \u001b[0;32mis\u001b[0m \u001b[0;32mNone\u001b[0m\u001b[0;34m:\u001b[0m\u001b[0;34m\u001b[0m\u001b[0;34m\u001b[0m\u001b[0m\n",
            "\u001b[0;32m/usr/local/lib/python3.7/dist-packages/pandas/io/excel/_base.py\u001b[0m in \u001b[0;36minspect_excel_format\u001b[0;34m(content_or_path, storage_options)\u001b[0m\n\u001b[1;32m   1069\u001b[0m \u001b[0;34m\u001b[0m\u001b[0m\n\u001b[1;32m   1070\u001b[0m     with get_handle(\n\u001b[0;32m-> 1071\u001b[0;31m         \u001b[0mcontent_or_path\u001b[0m\u001b[0;34m,\u001b[0m \u001b[0;34m\"rb\"\u001b[0m\u001b[0;34m,\u001b[0m \u001b[0mstorage_options\u001b[0m\u001b[0;34m=\u001b[0m\u001b[0mstorage_options\u001b[0m\u001b[0;34m,\u001b[0m \u001b[0mis_text\u001b[0m\u001b[0;34m=\u001b[0m\u001b[0;32mFalse\u001b[0m\u001b[0;34m\u001b[0m\u001b[0;34m\u001b[0m\u001b[0m\n\u001b[0m\u001b[1;32m   1072\u001b[0m     ) as handle:\n\u001b[1;32m   1073\u001b[0m         \u001b[0mstream\u001b[0m \u001b[0;34m=\u001b[0m \u001b[0mhandle\u001b[0m\u001b[0;34m.\u001b[0m\u001b[0mhandle\u001b[0m\u001b[0;34m\u001b[0m\u001b[0;34m\u001b[0m\u001b[0m\n",
            "\u001b[0;32m/usr/local/lib/python3.7/dist-packages/pandas/io/common.py\u001b[0m in \u001b[0;36mget_handle\u001b[0;34m(path_or_buf, mode, encoding, compression, memory_map, is_text, errors, storage_options)\u001b[0m\n\u001b[1;32m    709\u001b[0m         \u001b[0;32melse\u001b[0m\u001b[0;34m:\u001b[0m\u001b[0;34m\u001b[0m\u001b[0;34m\u001b[0m\u001b[0m\n\u001b[1;32m    710\u001b[0m             \u001b[0;31m# Binary mode\u001b[0m\u001b[0;34m\u001b[0m\u001b[0;34m\u001b[0m\u001b[0;34m\u001b[0m\u001b[0m\n\u001b[0;32m--> 711\u001b[0;31m             \u001b[0mhandle\u001b[0m \u001b[0;34m=\u001b[0m \u001b[0mopen\u001b[0m\u001b[0;34m(\u001b[0m\u001b[0mhandle\u001b[0m\u001b[0;34m,\u001b[0m \u001b[0mioargs\u001b[0m\u001b[0;34m.\u001b[0m\u001b[0mmode\u001b[0m\u001b[0;34m)\u001b[0m\u001b[0;34m\u001b[0m\u001b[0;34m\u001b[0m\u001b[0m\n\u001b[0m\u001b[1;32m    712\u001b[0m         \u001b[0mhandles\u001b[0m\u001b[0;34m.\u001b[0m\u001b[0mappend\u001b[0m\u001b[0;34m(\u001b[0m\u001b[0mhandle\u001b[0m\u001b[0;34m)\u001b[0m\u001b[0;34m\u001b[0m\u001b[0;34m\u001b[0m\u001b[0m\n\u001b[1;32m    713\u001b[0m \u001b[0;34m\u001b[0m\u001b[0m\n",
            "\u001b[0;31mFileNotFoundError\u001b[0m: [Errno 2] No such file or directory: 'DATABASE_PROJECT_5_VF.xlsx'"
          ]
        }
      ],
      "source": [
        "# But du code : Importer les données.\n",
        "import pandas as pd\n",
        "\n",
        "### 2.1- Importation des données\n",
        "dataset = pd.read_excel(\"DATABASE_PROJECT_5_VF.xlsx\")\n",
        "# set_index permet de dire à Python que l'identifiant de la table dataset est la colonne Loan_Id\n",
        "dataset.set_index(\"Id\", inplace=True)\n",
        "\n",
        "dataset.head(2)"
      ]
    },
    {
      "cell_type": "code",
      "source": [
        "dataset.info()"
      ],
      "metadata": {
        "colab": {
          "base_uri": "https://localhost:8080/",
          "height": 166
        },
        "id": "_diQ0xPmucxh",
        "outputId": "1cc3831f-b3cc-4e1e-82b2-2321a0306236"
      },
      "execution_count": null,
      "outputs": [
        {
          "output_type": "error",
          "ename": "NameError",
          "evalue": "ignored",
          "traceback": [
            "\u001b[0;31m---------------------------------------------------------------------------\u001b[0m",
            "\u001b[0;31mNameError\u001b[0m                                 Traceback (most recent call last)",
            "\u001b[0;32m<ipython-input-3-03b20060da6a>\u001b[0m in \u001b[0;36m<module>\u001b[0;34m()\u001b[0m\n\u001b[0;32m----> 1\u001b[0;31m \u001b[0mdataset\u001b[0m\u001b[0;34m.\u001b[0m\u001b[0minfo\u001b[0m\u001b[0;34m(\u001b[0m\u001b[0;34m)\u001b[0m\u001b[0;34m\u001b[0m\u001b[0;34m\u001b[0m\u001b[0m\n\u001b[0m",
            "\u001b[0;31mNameError\u001b[0m: name 'dataset' is not defined"
          ]
        }
      ]
    },
    {
      "cell_type": "markdown",
      "metadata": {
        "id": "praMxfMA_Okh"
      },
      "source": [
        "## - Data splitting"
      ]
    },
    {
      "cell_type": "code",
      "source": [
        "dataset.shape"
      ],
      "metadata": {
        "id": "883DkYP8_FdR"
      },
      "execution_count": null,
      "outputs": []
    },
    {
      "cell_type": "markdown",
      "source": [
        "La Database consiste de 398 lignes et 8 colonnes"
      ],
      "metadata": {
        "id": "dbb3l00hQr7J"
      }
    },
    {
      "cell_type": "markdown",
      "metadata": {
        "id": "55Sk5l1L_Oki"
      },
      "source": [
        "La construction d'un modèle nécessite la division de notre base en deux échantillons : l’échantillon d’apprentissage et l’échantillon de test. Ce travail préalable est très important pour tester la robustesse de tout modèle statistique à porter prédictive.\n",
        "La modélisation sera faite sur l’échantillon d’apprentissage. L’analyse de la performance du score sur l’échantillon test."
      ]
    },
    {
      "cell_type": "markdown",
      "metadata": {
        "id": "2nXFhQOB_Oki"
      },
      "source": [
        "#### A- Division de dataset en train (db_train) et test (db_test)"
      ]
    },
    {
      "cell_type": "code",
      "execution_count": null,
      "metadata": {
        "id": "h6-523VH_Okj"
      },
      "outputs": [],
      "source": [
        "# But du code : Diviser la base de données en base d'apprentissage et en base de modélisation.\n",
        "# Cette étape est indispensable pour construire un modèle de classification supervisé.\n",
        "\n",
        "from sklearn.model_selection import train_test_split\n",
        "\n",
        "db_train, db_test = train_test_split(dataset, train_size = 318,  random_state=60)"
      ]
    },
    {
      "cell_type": "markdown",
      "metadata": {
        "id": "QAQV7UZ0_Okj"
      },
      "source": [
        "#### B- Information sur la base train et test"
      ]
    },
    {
      "cell_type": "code",
      "execution_count": null,
      "metadata": {
        "id": "IRWKGOM1_Okk"
      },
      "outputs": [],
      "source": [
        "# But du code : Information sur la base de train et la base de test.\n",
        "\n",
        "# Base train : nombre de lignes et de colonnnes\n",
        "print(color.BOLD + \"Base d'apprentissage\" + color.END)\n",
        "print(db_train.shape)\n",
        "\n",
        "# Base test : nombre de lignes et de colonnnes\n",
        "print(color.BOLD + \"\\nBase de test\" + color.END)\n",
        "print(db_test.shape)"
      ]
    },
    {
      "cell_type": "markdown",
      "metadata": {
        "id": "KL5QOxgS_Okk"
      },
      "source": [
        "**Conclusion :** Il y a 318 voitures dans la base train qui sont décrits par 8 variables explicatives. La base test contient 80 clients."
      ]
    },
    {
      "cell_type": "markdown",
      "metadata": {
        "id": "eKoH-WbH_Okk"
      },
      "source": [
        "# - Analyse exploratoire des données"
      ]
    },
    {
      "cell_type": "markdown",
      "metadata": {
        "id": "sIymz65r_Okl"
      },
      "source": [
        "#### A- Voiture  ́econome ayant une consommation d’au moins 30 kilomètres sur la base train\n",
        "\n",
        "> Bloc en retrait\n",
        "\n"
      ]
    },
    {
      "cell_type": "code",
      "execution_count": null,
      "metadata": {
        "id": "fyYsWy-j_Okl",
        "colab": {
          "base_uri": "https://localhost:8080/",
          "height": 112
        },
        "outputId": "e525d08c-8fed-49bb-dc48-44ef2a193fdc"
      },
      "outputs": [
        {
          "output_type": "execute_result",
          "data": {
            "text/plain": [
              "   index        Y\n",
              "0      0  0.77044\n",
              "1      1  0.22956"
            ],
            "text/html": [
              "\n",
              "  <div id=\"df-7d306b54-ff78-48aa-b76d-1670d9767c84\">\n",
              "    <div class=\"colab-df-container\">\n",
              "      <div>\n",
              "<style scoped>\n",
              "    .dataframe tbody tr th:only-of-type {\n",
              "        vertical-align: middle;\n",
              "    }\n",
              "\n",
              "    .dataframe tbody tr th {\n",
              "        vertical-align: top;\n",
              "    }\n",
              "\n",
              "    .dataframe thead th {\n",
              "        text-align: right;\n",
              "    }\n",
              "</style>\n",
              "<table border=\"1\" class=\"dataframe\">\n",
              "  <thead>\n",
              "    <tr style=\"text-align: right;\">\n",
              "      <th></th>\n",
              "      <th>index</th>\n",
              "      <th>Y</th>\n",
              "    </tr>\n",
              "  </thead>\n",
              "  <tbody>\n",
              "    <tr>\n",
              "      <th>0</th>\n",
              "      <td>0</td>\n",
              "      <td>0.77044</td>\n",
              "    </tr>\n",
              "    <tr>\n",
              "      <th>1</th>\n",
              "      <td>1</td>\n",
              "      <td>0.22956</td>\n",
              "    </tr>\n",
              "  </tbody>\n",
              "</table>\n",
              "</div>\n",
              "      <button class=\"colab-df-convert\" onclick=\"convertToInteractive('df-7d306b54-ff78-48aa-b76d-1670d9767c84')\"\n",
              "              title=\"Convert this dataframe to an interactive table.\"\n",
              "              style=\"display:none;\">\n",
              "        \n",
              "  <svg xmlns=\"http://www.w3.org/2000/svg\" height=\"24px\"viewBox=\"0 0 24 24\"\n",
              "       width=\"24px\">\n",
              "    <path d=\"M0 0h24v24H0V0z\" fill=\"none\"/>\n",
              "    <path d=\"M18.56 5.44l.94 2.06.94-2.06 2.06-.94-2.06-.94-.94-2.06-.94 2.06-2.06.94zm-11 1L8.5 8.5l.94-2.06 2.06-.94-2.06-.94L8.5 2.5l-.94 2.06-2.06.94zm10 10l.94 2.06.94-2.06 2.06-.94-2.06-.94-.94-2.06-.94 2.06-2.06.94z\"/><path d=\"M17.41 7.96l-1.37-1.37c-.4-.4-.92-.59-1.43-.59-.52 0-1.04.2-1.43.59L10.3 9.45l-7.72 7.72c-.78.78-.78 2.05 0 2.83L4 21.41c.39.39.9.59 1.41.59.51 0 1.02-.2 1.41-.59l7.78-7.78 2.81-2.81c.8-.78.8-2.07 0-2.86zM5.41 20L4 18.59l7.72-7.72 1.47 1.35L5.41 20z\"/>\n",
              "  </svg>\n",
              "      </button>\n",
              "      \n",
              "  <style>\n",
              "    .colab-df-container {\n",
              "      display:flex;\n",
              "      flex-wrap:wrap;\n",
              "      gap: 12px;\n",
              "    }\n",
              "\n",
              "    .colab-df-convert {\n",
              "      background-color: #E8F0FE;\n",
              "      border: none;\n",
              "      border-radius: 50%;\n",
              "      cursor: pointer;\n",
              "      display: none;\n",
              "      fill: #1967D2;\n",
              "      height: 32px;\n",
              "      padding: 0 0 0 0;\n",
              "      width: 32px;\n",
              "    }\n",
              "\n",
              "    .colab-df-convert:hover {\n",
              "      background-color: #E2EBFA;\n",
              "      box-shadow: 0px 1px 2px rgba(60, 64, 67, 0.3), 0px 1px 3px 1px rgba(60, 64, 67, 0.15);\n",
              "      fill: #174EA6;\n",
              "    }\n",
              "\n",
              "    [theme=dark] .colab-df-convert {\n",
              "      background-color: #3B4455;\n",
              "      fill: #D2E3FC;\n",
              "    }\n",
              "\n",
              "    [theme=dark] .colab-df-convert:hover {\n",
              "      background-color: #434B5C;\n",
              "      box-shadow: 0px 1px 3px 1px rgba(0, 0, 0, 0.15);\n",
              "      filter: drop-shadow(0px 1px 2px rgba(0, 0, 0, 0.3));\n",
              "      fill: #FFFFFF;\n",
              "    }\n",
              "  </style>\n",
              "\n",
              "      <script>\n",
              "        const buttonEl =\n",
              "          document.querySelector('#df-7d306b54-ff78-48aa-b76d-1670d9767c84 button.colab-df-convert');\n",
              "        buttonEl.style.display =\n",
              "          google.colab.kernel.accessAllowed ? 'block' : 'none';\n",
              "\n",
              "        async function convertToInteractive(key) {\n",
              "          const element = document.querySelector('#df-7d306b54-ff78-48aa-b76d-1670d9767c84');\n",
              "          const dataTable =\n",
              "            await google.colab.kernel.invokeFunction('convertToInteractive',\n",
              "                                                     [key], {});\n",
              "          if (!dataTable) return;\n",
              "\n",
              "          const docLinkHtml = 'Like what you see? Visit the ' +\n",
              "            '<a target=\"_blank\" href=https://colab.research.google.com/notebooks/data_table.ipynb>data table notebook</a>'\n",
              "            + ' to learn more about interactive tables.';\n",
              "          element.innerHTML = '';\n",
              "          dataTable['output_type'] = 'display_data';\n",
              "          await google.colab.output.renderOutput(dataTable, element);\n",
              "          const docLink = document.createElement('div');\n",
              "          docLink.innerHTML = docLinkHtml;\n",
              "          element.appendChild(docLink);\n",
              "        }\n",
              "      </script>\n",
              "    </div>\n",
              "  </div>\n",
              "  "
            ]
          },
          "metadata": {},
          "execution_count": 7
        }
      ],
      "source": [
        "# Voiture  ́econome ayant une consommation d’au moins 30 kilomètres sur la base train (apprentissage)\n",
        "voiture_train = (db_train['Y']\n",
        "           .value_counts(normalize=True)\n",
        "           .reset_index())\n",
        "\n",
        "voiture_train"
      ]
    },
    {
      "cell_type": "markdown",
      "source": [
        "22% des voitures dans le test ont une consommation inferieure à 30 kilomètres par litre de carburant et 77% sont supérieurs"
      ],
      "metadata": {
        "id": "hN0GTDLVRdDg"
      }
    },
    {
      "cell_type": "markdown",
      "metadata": {
        "id": "mnyLNrtm_Okm"
      },
      "source": [
        "#### B- Voiture  ́econome ayant une consommation d’au moins 30 kilomètres sur la base test\n",
        "\n"
      ]
    },
    {
      "cell_type": "code",
      "execution_count": null,
      "metadata": {
        "id": "k8InzuIc_Okm",
        "colab": {
          "base_uri": "https://localhost:8080/",
          "height": 112
        },
        "outputId": "1a0f6695-6697-4bec-f74f-bfe5cd42e703"
      },
      "outputs": [
        {
          "output_type": "execute_result",
          "data": {
            "text/plain": [
              "   index        Y\n",
              "0      0  0.77044\n",
              "1      1  0.22956"
            ],
            "text/html": [
              "\n",
              "  <div id=\"df-b9770a86-0ab7-4403-9469-35df66f95b95\">\n",
              "    <div class=\"colab-df-container\">\n",
              "      <div>\n",
              "<style scoped>\n",
              "    .dataframe tbody tr th:only-of-type {\n",
              "        vertical-align: middle;\n",
              "    }\n",
              "\n",
              "    .dataframe tbody tr th {\n",
              "        vertical-align: top;\n",
              "    }\n",
              "\n",
              "    .dataframe thead th {\n",
              "        text-align: right;\n",
              "    }\n",
              "</style>\n",
              "<table border=\"1\" class=\"dataframe\">\n",
              "  <thead>\n",
              "    <tr style=\"text-align: right;\">\n",
              "      <th></th>\n",
              "      <th>index</th>\n",
              "      <th>Y</th>\n",
              "    </tr>\n",
              "  </thead>\n",
              "  <tbody>\n",
              "    <tr>\n",
              "      <th>0</th>\n",
              "      <td>0</td>\n",
              "      <td>0.77044</td>\n",
              "    </tr>\n",
              "    <tr>\n",
              "      <th>1</th>\n",
              "      <td>1</td>\n",
              "      <td>0.22956</td>\n",
              "    </tr>\n",
              "  </tbody>\n",
              "</table>\n",
              "</div>\n",
              "      <button class=\"colab-df-convert\" onclick=\"convertToInteractive('df-b9770a86-0ab7-4403-9469-35df66f95b95')\"\n",
              "              title=\"Convert this dataframe to an interactive table.\"\n",
              "              style=\"display:none;\">\n",
              "        \n",
              "  <svg xmlns=\"http://www.w3.org/2000/svg\" height=\"24px\"viewBox=\"0 0 24 24\"\n",
              "       width=\"24px\">\n",
              "    <path d=\"M0 0h24v24H0V0z\" fill=\"none\"/>\n",
              "    <path d=\"M18.56 5.44l.94 2.06.94-2.06 2.06-.94-2.06-.94-.94-2.06-.94 2.06-2.06.94zm-11 1L8.5 8.5l.94-2.06 2.06-.94-2.06-.94L8.5 2.5l-.94 2.06-2.06.94zm10 10l.94 2.06.94-2.06 2.06-.94-2.06-.94-.94-2.06-.94 2.06-2.06.94z\"/><path d=\"M17.41 7.96l-1.37-1.37c-.4-.4-.92-.59-1.43-.59-.52 0-1.04.2-1.43.59L10.3 9.45l-7.72 7.72c-.78.78-.78 2.05 0 2.83L4 21.41c.39.39.9.59 1.41.59.51 0 1.02-.2 1.41-.59l7.78-7.78 2.81-2.81c.8-.78.8-2.07 0-2.86zM5.41 20L4 18.59l7.72-7.72 1.47 1.35L5.41 20z\"/>\n",
              "  </svg>\n",
              "      </button>\n",
              "      \n",
              "  <style>\n",
              "    .colab-df-container {\n",
              "      display:flex;\n",
              "      flex-wrap:wrap;\n",
              "      gap: 12px;\n",
              "    }\n",
              "\n",
              "    .colab-df-convert {\n",
              "      background-color: #E8F0FE;\n",
              "      border: none;\n",
              "      border-radius: 50%;\n",
              "      cursor: pointer;\n",
              "      display: none;\n",
              "      fill: #1967D2;\n",
              "      height: 32px;\n",
              "      padding: 0 0 0 0;\n",
              "      width: 32px;\n",
              "    }\n",
              "\n",
              "    .colab-df-convert:hover {\n",
              "      background-color: #E2EBFA;\n",
              "      box-shadow: 0px 1px 2px rgba(60, 64, 67, 0.3), 0px 1px 3px 1px rgba(60, 64, 67, 0.15);\n",
              "      fill: #174EA6;\n",
              "    }\n",
              "\n",
              "    [theme=dark] .colab-df-convert {\n",
              "      background-color: #3B4455;\n",
              "      fill: #D2E3FC;\n",
              "    }\n",
              "\n",
              "    [theme=dark] .colab-df-convert:hover {\n",
              "      background-color: #434B5C;\n",
              "      box-shadow: 0px 1px 3px 1px rgba(0, 0, 0, 0.15);\n",
              "      filter: drop-shadow(0px 1px 2px rgba(0, 0, 0, 0.3));\n",
              "      fill: #FFFFFF;\n",
              "    }\n",
              "  </style>\n",
              "\n",
              "      <script>\n",
              "        const buttonEl =\n",
              "          document.querySelector('#df-b9770a86-0ab7-4403-9469-35df66f95b95 button.colab-df-convert');\n",
              "        buttonEl.style.display =\n",
              "          google.colab.kernel.accessAllowed ? 'block' : 'none';\n",
              "\n",
              "        async function convertToInteractive(key) {\n",
              "          const element = document.querySelector('#df-b9770a86-0ab7-4403-9469-35df66f95b95');\n",
              "          const dataTable =\n",
              "            await google.colab.kernel.invokeFunction('convertToInteractive',\n",
              "                                                     [key], {});\n",
              "          if (!dataTable) return;\n",
              "\n",
              "          const docLinkHtml = 'Like what you see? Visit the ' +\n",
              "            '<a target=\"_blank\" href=https://colab.research.google.com/notebooks/data_table.ipynb>data table notebook</a>'\n",
              "            + ' to learn more about interactive tables.';\n",
              "          element.innerHTML = '';\n",
              "          dataTable['output_type'] = 'display_data';\n",
              "          await google.colab.output.renderOutput(dataTable, element);\n",
              "          const docLink = document.createElement('div');\n",
              "          docLink.innerHTML = docLinkHtml;\n",
              "          element.appendChild(docLink);\n",
              "        }\n",
              "      </script>\n",
              "    </div>\n",
              "  </div>\n",
              "  "
            ]
          },
          "metadata": {},
          "execution_count": 8
        }
      ],
      "source": [
        "# Voiture  ́econome ayant une consommation d’au moins 30 kilomètres sur la base train (apprentissage)\n",
        "voiture_test = (db_test['Y']\n",
        "                   .value_counts(normalize=True)\n",
        "                   .reset_index())\n",
        "\n",
        "voiture_train"
      ]
    },
    {
      "cell_type": "markdown",
      "metadata": {
        "id": "ZUZlUD0A_Okm"
      },
      "source": [
        "#### C- Répresentation graphique de la variable d'intérêt entre les deux bases"
      ]
    },
    {
      "cell_type": "markdown",
      "metadata": {
        "id": "oNmTRsSN_Okm"
      },
      "source": [
        "Le but du code ci-dessous est de visualiser la réparition de la variable Y.\n",
        "On observe la répartition des voitures ́economes ayant une consommation d’au moins 30 kilomètres(Y = 1) vs  (Y = 0)."
      ]
    },
    {
      "cell_type": "code",
      "execution_count": null,
      "metadata": {
        "id": "2yMbj_pa_Okm",
        "colab": {
          "base_uri": "https://localhost:8080/",
          "height": 241
        },
        "outputId": "ab7122f9-18d7-45b7-bbe3-b1f50a447b97"
      },
      "outputs": [
        {
          "output_type": "display_data",
          "data": {
            "text/plain": [
              "<Figure size 720x216 with 2 Axes>"
            ],
            "image/png": "[encoded data removed]"
          },
          "metadata": {
            "needs_background": "light"
          }
        }
      ],
      "source": [
        "plt.figure(figsize=(10, 3))\n",
        "\n",
        "#Espace d'affichage de la première courbe\n",
        "plt.subplot(1,2,1)\n",
        "\n",
        "# Voiture  ́econome ayant une consommation d’au moins 30 kilomètres sur la base train (apprentissage)\n",
        "sns.barplot(x='index', y='Y', data=voiture_train);\n",
        "plt.title(\"Y sur la base train\");\n",
        "\n",
        "#------------------------------------------------------------------\n",
        "\n",
        "#Espace d'affichage de la seconde courbe\n",
        "plt.subplot(1,2,2)\n",
        "\n",
        "sns.barplot(x='index', y='Y', data=voiture_test);\n",
        "plt.title(\"Y sur la base test\");\n",
        "\n",
        "#Espace entre les deux graphiques\n",
        "plt.subplots_adjust(wspace=0.9)"
      ]
    },
    {
      "cell_type": "markdown",
      "metadata": {
        "id": "emV47M5H_Okn"
      },
      "source": [
        "**Conclusion :** On remarque que seuls **22%** des Voitures ont une consommation de moins 30 kilomètres."
      ]
    },
    {
      "cell_type": "code",
      "execution_count": null,
      "metadata": {
        "id": "36nOExIVsXaw",
        "colab": {
          "base_uri": "https://localhost:8080/",
          "height": 211
        },
        "outputId": "d45b6970-0fac-41ca-8913-02e8e46e86aa"
      },
      "outputs": [
        {
          "output_type": "display_data",
          "data": {
            "text/plain": [
              "<Figure size 1008x216 with 2 Axes>"
            ],
            "image/png": "[encoded data removed]"
          },
          "metadata": {
            "needs_background": "light"
          }
        }
      ],
      "source": [
        "plt.figure(figsize=(14,3))\n",
        "\n",
        "plt.subplot(1,2,1)\n",
        "db_train['X2'].hist(bins=50)\n",
        "\n",
        "plt.subplot(1,2,2)\n",
        "db_train.boxplot(column='X2', vert = False);\n",
        "\n",
        "#Conclusion : des disparites au niveau des 3 POINTS réalisés avec la présence des outliers"
      ]
    },
    {
      "cell_type": "code",
      "source": [
        "#Analyse de la variable X1\n",
        "plt.subplot(2,2,1)\n",
        "db_train['X1'].hist(bins=50, figsize=(16, 8));\n",
        "\n",
        "plt.subplot(2,2,2)\n",
        "db_train.boxplot(column='X1', vert = False, figsize=(16, 8));\n",
        "\n",
        "\n",
        "#Analyse de la variable X5.\n",
        "plt.subplot(2,2,3)\n",
        "db_train['X5'].hist(bins=50, figsize=(16, 8));\n",
        "\n",
        "plt.subplot(2,2,4)\n",
        "db_train.boxplot(column='X5', vert = False, figsize=(16, 8));"
      ],
      "metadata": {
        "colab": {
          "base_uri": "https://localhost:8080/",
          "height": 483
        },
        "id": "nfm0aAcqTb6K",
        "outputId": "cd5b2df1-218b-404a-8e06-a4ad0494c5d7"
      },
      "execution_count": null,
      "outputs": [
        {
          "output_type": "display_data",
          "data": {
            "text/plain": [
              "<Figure size 1152x576 with 4 Axes>"
            ],
            "image/png": "[encoded data removed]"
          },
          "metadata": {
            "needs_background": "light"
          }
        }
      ]
    },
    {
      "cell_type": "code",
      "execution_count": null,
      "metadata": {
        "id": "8MVJYrCdsXax",
        "colab": {
          "base_uri": "https://localhost:8080/",
          "height": 483
        },
        "outputId": "1f825020-cd34-489f-8a43-bc93a3853b6c"
      },
      "outputs": [
        {
          "output_type": "display_data",
          "data": {
            "text/plain": [
              "<Figure size 1152x576 with 4 Axes>"
            ],
            "image/png": "[encoded data removed]"
          },
          "metadata": {
            "needs_background": "light"
          }
        }
      ],
      "source": [
        "\n",
        "#Analyse de la variable X3\n",
        "plt.subplot(2,2,1)\n",
        "db_train['X3'].hist(bins=50, figsize=(16, 8));\n",
        "\n",
        "plt.subplot(2,2,2)\n",
        "db_train.boxplot(column='X3', vert = False, figsize=(16, 8));\n",
        "\n",
        "\n",
        "#Analyse de la variable X4.\n",
        "plt.subplot(2,2,3)\n",
        "db_train['X4'].hist(bins=50, figsize=(16, 8));\n",
        "\n",
        "plt.subplot(2,2,4)\n",
        "db_train.boxplot(column='X4', vert = False, figsize=(16, 8));\n",
        "\n"
      ]
    },
    {
      "cell_type": "code",
      "source": [
        "#Analyse de la variable X6\n",
        "plt.subplot(2,2,1)\n",
        "db_train['X6'].hist(bins=50, figsize=(16, 8));\n",
        "\n",
        "plt.subplot(2,2,2)\n",
        "db_train.boxplot(column='X6', vert = False, figsize=(16, 8));\n",
        "\n",
        "\n",
        "#Analyse de la variable X7.\n",
        "plt.subplot(2,2,3)\n",
        "db_train['X7'].hist(bins=50, figsize=(16, 8));\n",
        "\n",
        "plt.subplot(2,2,4)\n",
        "db_train.boxplot(column='X7', vert = False, figsize=(16, 8));"
      ],
      "metadata": {
        "colab": {
          "base_uri": "https://localhost:8080/",
          "height": 483
        },
        "id": "PDl7eKIEoSLI",
        "outputId": "5f8c70fa-c860-4d32-dbfb-f4d2049967e3"
      },
      "execution_count": null,
      "outputs": [
        {
          "output_type": "display_data",
          "data": {
            "text/plain": [
              "<Figure size 1152x576 with 4 Axes>"
            ],
            "image/png": "[encoded data removed]"
          },
          "metadata": {
            "needs_background": "light"
          }
        }
      ]
    },
    {
      "cell_type": "markdown",
      "source": [
        "####Conclusion : La colonne X3 contient des outliers"
      ],
      "metadata": {
        "id": "pPzY_D1Z5myt"
      }
    },
    {
      "cell_type": "markdown",
      "metadata": {
        "id": "-LgRaF5hsXa2"
      },
      "source": [
        "### 4.7- Relation entre la distance parcourue et Voiture ayant une consommation inferieure `a 30 kilomètres"
      ]
    },
    {
      "cell_type": "code",
      "execution_count": null,
      "metadata": {
        "id": "5e3rkcOOsXa3",
        "colab": {
          "base_uri": "https://localhost:8080/",
          "height": 296
        },
        "outputId": "a372e886-612b-41c3-9f60-7e9eb13d1994"
      },
      "outputs": [
        {
          "output_type": "display_data",
          "data": {
            "text/plain": [
              "<Figure size 576x288 with 1 Axes>"
            ],
            "image/png": "[encoded data removed]"
          },
          "metadata": {
            "needs_background": "light"
          }
        }
      ],
      "source": [
        "# REMPLISSAGE PAR LA MOYENNE\n",
        "#BOX PLOT\n",
        "boxplot = db_train.boxplot(column='X2', by=['Y'], rot=45, fontsize=11, figsize=(8,4));\n",
        "boxplot.set_title(\"Relation entre la distance parcourue et Voiture ayant une consommation inferieure `a 30 kilomètres\");\n",
        "plt.suptitle('')\n",
        "plt.show();"
      ]
    },
    {
      "cell_type": "markdown",
      "metadata": {
        "id": "9vbkEQgAsXa3"
      },
      "source": [
        "Quand Y=1 on remarque que il y'a des outliers"
      ]
    },
    {
      "cell_type": "markdown",
      "metadata": {
        "id": "UGdr0F5xsXa5"
      },
      "source": [
        "###matrice de corrélation pour l'analyse des corrélations"
      ]
    },
    {
      "cell_type": "code",
      "source": [
        "dataset.info()\n",
        "#information sur les colones"
      ],
      "metadata": {
        "colab": {
          "base_uri": "https://localhost:8080/"
        },
        "id": "hEp7soiUZ5f7",
        "outputId": "2c2de7e1-cd39-4928-83fc-fbb5ac149f42"
      },
      "execution_count": null,
      "outputs": [
        {
          "output_type": "stream",
          "name": "stdout",
          "text": [
            "<class 'pandas.core.frame.DataFrame'>\n",
            "Int64Index: 398 entries, 1 to 398\n",
            "Data columns (total 8 columns):\n",
            " #   Column  Non-Null Count  Dtype  \n",
            "---  ------  --------------  -----  \n",
            " 0   X1      398 non-null    int64  \n",
            " 1   X2      398 non-null    float64\n",
            " 2   X3      392 non-null    float64\n",
            " 3   X4      398 non-null    int64  \n",
            " 4   X5      398 non-null    float64\n",
            " 5   X6      398 non-null    int64  \n",
            " 6   X7      398 non-null    int64  \n",
            " 7   Y       398 non-null    int64  \n",
            "dtypes: float64(3), int64(5)\n",
            "memory usage: 28.0 KB\n"
          ]
        }
      ]
    },
    {
      "cell_type": "code",
      "execution_count": null,
      "metadata": {
        "id": "_M9qmJJYsXa5",
        "colab": {
          "base_uri": "https://localhost:8080/",
          "height": 1000
        },
        "outputId": "b9f6a7cc-8839-4b7e-fad0-66bb3572064b"
      },
      "outputs": [
        {
          "output_type": "execute_result",
          "data": {
            "text/plain": [
              "         X1          X2          X3           X4         X5         X6  \\\n",
              "Y                                                                        \n",
              "0  5.938776  225.230612  116.243802  3252.506122  15.169796  75.093878   \n",
              "1  4.068493  100.191781   69.861111  2140.164384  16.879452  79.123288   \n",
              "\n",
              "         X7  \n",
              "Y            \n",
              "0  1.338776  \n",
              "1  2.301370  "
            ],
            "text/html": [
              "\n",
              "  <div id=\"df-7f00d9a5-fd4e-418f-ab66-2a4890238ad7\">\n",
              "    <div class=\"colab-df-container\">\n",
              "      <div>\n",
              "<style scoped>\n",
              "    .dataframe tbody tr th:only-of-type {\n",
              "        vertical-align: middle;\n",
              "    }\n",
              "\n",
              "    .dataframe tbody tr th {\n",
              "        vertical-align: top;\n",
              "    }\n",
              "\n",
              "    .dataframe thead th {\n",
              "        text-align: right;\n",
              "    }\n",
              "</style>\n",
              "<table border=\"1\" class=\"dataframe\">\n",
              "  <thead>\n",
              "    <tr style=\"text-align: right;\">\n",
              "      <th></th>\n",
              "      <th>X1</th>\n",
              "      <th>X2</th>\n",
              "      <th>X3</th>\n",
              "      <th>X4</th>\n",
              "      <th>X5</th>\n",
              "      <th>X6</th>\n",
              "      <th>X7</th>\n",
              "    </tr>\n",
              "    <tr>\n",
              "      <th>Y</th>\n",
              "      <th></th>\n",
              "      <th></th>\n",
              "      <th></th>\n",
              "      <th></th>\n",
              "      <th></th>\n",
              "      <th></th>\n",
              "      <th></th>\n",
              "    </tr>\n",
              "  </thead>\n",
              "  <tbody>\n",
              "    <tr>\n",
              "      <th>0</th>\n",
              "      <td>5.938776</td>\n",
              "      <td>225.230612</td>\n",
              "      <td>116.243802</td>\n",
              "      <td>3252.506122</td>\n",
              "      <td>15.169796</td>\n",
              "      <td>75.093878</td>\n",
              "      <td>1.338776</td>\n",
              "    </tr>\n",
              "    <tr>\n",
              "      <th>1</th>\n",
              "      <td>4.068493</td>\n",
              "      <td>100.191781</td>\n",
              "      <td>69.861111</td>\n",
              "      <td>2140.164384</td>\n",
              "      <td>16.879452</td>\n",
              "      <td>79.123288</td>\n",
              "      <td>2.301370</td>\n",
              "    </tr>\n",
              "  </tbody>\n",
              "</table>\n",
              "</div>\n",
              "      <button class=\"colab-df-convert\" onclick=\"convertToInteractive('df-7f00d9a5-fd4e-418f-ab66-2a4890238ad7')\"\n",
              "              title=\"Convert this dataframe to an interactive table.\"\n",
              "              style=\"display:none;\">\n",
              "        \n",
              "  <svg xmlns=\"http://www.w3.org/2000/svg\" height=\"24px\"viewBox=\"0 0 24 24\"\n",
              "       width=\"24px\">\n",
              "    <path d=\"M0 0h24v24H0V0z\" fill=\"none\"/>\n",
              "    <path d=\"M18.56 5.44l.94 2.06.94-2.06 2.06-.94-2.06-.94-.94-2.06-.94 2.06-2.06.94zm-11 1L8.5 8.5l.94-2.06 2.06-.94-2.06-.94L8.5 2.5l-.94 2.06-2.06.94zm10 10l.94 2.06.94-2.06 2.06-.94-2.06-.94-.94-2.06-.94 2.06-2.06.94z\"/><path d=\"M17.41 7.96l-1.37-1.37c-.4-.4-.92-.59-1.43-.59-.52 0-1.04.2-1.43.59L10.3 9.45l-7.72 7.72c-.78.78-.78 2.05 0 2.83L4 21.41c.39.39.9.59 1.41.59.51 0 1.02-.2 1.41-.59l7.78-7.78 2.81-2.81c.8-.78.8-2.07 0-2.86zM5.41 20L4 18.59l7.72-7.72 1.47 1.35L5.41 20z\"/>\n",
              "  </svg>\n",
              "      </button>\n",
              "      \n",
              "  <style>\n",
              "    .colab-df-container {\n",
              "      display:flex;\n",
              "      flex-wrap:wrap;\n",
              "      gap: 12px;\n",
              "    }\n",
              "\n",
              "    .colab-df-convert {\n",
              "      background-color: #E8F0FE;\n",
              "      border: none;\n",
              "      border-radius: 50%;\n",
              "      cursor: pointer;\n",
              "      display: none;\n",
              "      fill: #1967D2;\n",
              "      height: 32px;\n",
              "      padding: 0 0 0 0;\n",
              "      width: 32px;\n",
              "    }\n",
              "\n",
              "    .colab-df-convert:hover {\n",
              "      background-color: #E2EBFA;\n",
              "      box-shadow: 0px 1px 2px rgba(60, 64, 67, 0.3), 0px 1px 3px 1px rgba(60, 64, 67, 0.15);\n",
              "      fill: #174EA6;\n",
              "    }\n",
              "\n",
              "    [theme=dark] .colab-df-convert {\n",
              "      background-color: #3B4455;\n",
              "      fill: #D2E3FC;\n",
              "    }\n",
              "\n",
              "    [theme=dark] .colab-df-convert:hover {\n",
              "      background-color: #434B5C;\n",
              "      box-shadow: 0px 1px 3px 1px rgba(0, 0, 0, 0.15);\n",
              "      filter: drop-shadow(0px 1px 2px rgba(0, 0, 0, 0.3));\n",
              "      fill: #FFFFFF;\n",
              "    }\n",
              "  </style>\n",
              "\n",
              "      <script>\n",
              "        const buttonEl =\n",
              "          document.querySelector('#df-7f00d9a5-fd4e-418f-ab66-2a4890238ad7 button.colab-df-convert');\n",
              "        buttonEl.style.display =\n",
              "          google.colab.kernel.accessAllowed ? 'block' : 'none';\n",
              "\n",
              "        async function convertToInteractive(key) {\n",
              "          const element = document.querySelector('#df-7f00d9a5-fd4e-418f-ab66-2a4890238ad7');\n",
              "          const dataTable =\n",
              "            await google.colab.kernel.invokeFunction('convertToInteractive',\n",
              "                                                     [key], {});\n",
              "          if (!dataTable) return;\n",
              "\n",
              "          const docLinkHtml = 'Like what you see? Visit the ' +\n",
              "            '<a target=\"_blank\" href=https://colab.research.google.com/notebooks/data_table.ipynb>data table notebook</a>'\n",
              "            + ' to learn more about interactive tables.';\n",
              "          element.innerHTML = '';\n",
              "          dataTable['output_type'] = 'display_data';\n",
              "          await google.colab.output.renderOutput(dataTable, element);\n",
              "          const docLink = document.createElement('div');\n",
              "          docLink.innerHTML = docLinkHtml;\n",
              "          element.appendChild(docLink);\n",
              "        }\n",
              "      </script>\n",
              "    </div>\n",
              "  </div>\n",
              "  "
            ]
          },
          "metadata": {},
          "execution_count": 16
        },
        {
          "output_type": "display_data",
          "data": {
            "text/plain": [
              "<Figure size 1656x1656 with 2 Axes>"
            ],
            "image/png": "[encoded data removed]"
          },
          "metadata": {
            "needs_background": "light"
          }
        }
      ],
      "source": [
        "corr = db_train.corr()\n",
        "plt.figure(figsize=(23, 23))\n",
        "sns.heatmap(corr,\n",
        "            mask=np.zeros_like(corr, dtype=np.bool),\n",
        "            cmap=sns.diverging_palette(200, 10, as_cmap=True),\n",
        "            square=True);\n",
        "\n",
        "pd.pivot_table(db_train, index='Y', aggfunc='mean')"
      ]
    },
    {
      "cell_type": "markdown",
      "source": [
        "Puisque  on a pas des valeurs catégoriques, on peut pas utiliser les divers types de visualisations. La rélation entres les\n",
        "variables numériques est mieux expliquée par la coorelation"
      ],
      "metadata": {
        "id": "_OCVp_QSat9E"
      }
    },
    {
      "cell_type": "code",
      "source": [
        "db_train.info()"
      ],
      "metadata": {
        "colab": {
          "base_uri": "https://localhost:8080/"
        },
        "id": "JgN0PIpobWc0",
        "outputId": "91682aee-fd81-4127-eed2-33ab7e873e7d"
      },
      "execution_count": null,
      "outputs": [
        {
          "output_type": "stream",
          "name": "stdout",
          "text": [
            "<class 'pandas.core.frame.DataFrame'>\n",
            "Int64Index: 318 entries, 110 to 206\n",
            "Data columns (total 8 columns):\n",
            " #   Column  Non-Null Count  Dtype  \n",
            "---  ------  --------------  -----  \n",
            " 0   X1      318 non-null    int64  \n",
            " 1   X2      318 non-null    float64\n",
            " 2   X3      314 non-null    float64\n",
            " 3   X4      318 non-null    int64  \n",
            " 4   X5      318 non-null    float64\n",
            " 5   X6      318 non-null    int64  \n",
            " 6   X7      318 non-null    int64  \n",
            " 7   Y       318 non-null    int64  \n",
            "dtypes: float64(3), int64(5)\n",
            "memory usage: 22.4 KB\n"
          ]
        }
      ]
    },
    {
      "cell_type": "code",
      "source": [
        "def corrFilter(x: pd.DataFrame, bound: float):\n",
        "    xCorr = x.corr()\n",
        "    xFiltered = xCorr[((xCorr >= bound) | (xCorr <= -bound)) & (xCorr !=1.000)]\n",
        "    xFlattened = xFiltered.unstack().sort_values().drop_duplicates()\n",
        "    return xFlattened\n",
        "\n",
        "corrFilter(db_train, .7)\n",
        "#pourcentage de corrélatin entre les variables"
      ],
      "metadata": {
        "id": "pGmFOepTBukj",
        "colab": {
          "base_uri": "https://localhost:8080/"
        },
        "outputId": "9fdb7744-52c7-4dca-8306-d5879e123781"
      },
      "execution_count": null,
      "outputs": [
        {
          "output_type": "execute_result",
          "data": {
            "text/plain": [
              "X3  X5   -0.705249\n",
              "X1  X3    0.839508\n",
              "X3  X4    0.862892\n",
              "X1  X4    0.892164\n",
              "X2  X3    0.898144\n",
              "    X4    0.931871\n",
              "X1  X2    0.947188\n",
              "    X1         NaN\n",
              "dtype: float64"
            ]
          },
          "metadata": {},
          "execution_count": 18
        }
      ]
    },
    {
      "cell_type": "markdown",
      "source": [
        "**Conclusion :** les liens (corrélations) significatifs sont entre les variables :\n",
        "* X1 et X2\n",
        "* X2 et X4"
      ],
      "metadata": {
        "id": "zdbdDp1zgL2Q"
      }
    },
    {
      "cell_type": "code",
      "source": [
        "#Correlation with output variable\n",
        "cor_target = abs(corr[\"Y\"])\n",
        "#Selecting highly correlated features\n",
        "relevant_features = cor_target[cor_target>0.3]\n",
        "relevant_features"
      ],
      "metadata": {
        "id": "qIML2k0nAqHm",
        "colab": {
          "base_uri": "https://localhost:8080/"
        },
        "outputId": "58c1be7e-df6f-4677-a922-5d316cd59f32"
      },
      "execution_count": null,
      "outputs": [
        {
          "output_type": "execute_result",
          "data": {
            "text/plain": [
              "X1    0.460066\n",
              "X2    0.499368\n",
              "X3    0.492590\n",
              "X4    0.547184\n",
              "X6    0.459765\n",
              "X7    0.507466\n",
              "Y     1.000000\n",
              "Name: Y, dtype: float64"
            ]
          },
          "metadata": {},
          "execution_count": 19
        }
      ]
    },
    {
      "cell_type": "markdown",
      "metadata": {
        "id": "UkFTNSCqsXa5"
      },
      "source": [
        "Cela represente la coorélations entre la variable Y et les autres variables qui doivent etre superior 0.3. On trouve que la coorélation entre la variable X4 et Y est le plus significatif(0.54)\n"
      ]
    },
    {
      "cell_type": "code",
      "execution_count": null,
      "metadata": {
        "id": "YYdH51Hx_Okn",
        "colab": {
          "base_uri": "https://localhost:8080/"
        },
        "outputId": "4582f918-b7dc-47f9-dd0e-1173daddc150"
      },
      "outputs": [
        {
          "output_type": "execute_result",
          "data": {
            "text/plain": [
              "Index(['X1', 'X2', 'X3', 'X4', 'X5', 'X6', 'X7', 'Y'], dtype='object')"
            ]
          },
          "metadata": {},
          "execution_count": 20
        }
      ],
      "source": [
        "#Liste des colonnes de la table db_train\n",
        "db_train.columns"
      ]
    },
    {
      "cell_type": "markdown",
      "metadata": {
        "id": "V_0TsdTo_Okq"
      },
      "source": [
        "# - Modélisation"
      ]
    },
    {
      "cell_type": "markdown",
      "metadata": {
        "id": "Vn57GQDQ_Okq"
      },
      "source": [
        "## - Data Treatement : Missing Values"
      ]
    },
    {
      "cell_type": "markdown",
      "metadata": {
        "id": "rwVxoPO1_Okq"
      },
      "source": [
        "#### A- Base Train : missing values"
      ]
    },
    {
      "cell_type": "markdown",
      "metadata": {
        "id": "EslLiA-G_Okq"
      },
      "source": [
        "<span style=\"color:red;font-weight: bolder\">Question :</span> Afficher les valeurs manquantes pour chaque variable de la base train en utilisant la fonction isnull( ) et sum() de pandas.<br />\n",
        "<em>Précisement, il faut remplacer les trois points (...) par le code Python correspondant</em>."
      ]
    },
    {
      "cell_type": "code",
      "execution_count": null,
      "metadata": {
        "id": "GnBvtcpv_Okq",
        "colab": {
          "base_uri": "https://localhost:8080/",
          "height": 235
        },
        "outputId": "34456092-091a-4a2d-a456-32b7c2be3151"
      },
      "outputs": [
        {
          "output_type": "error",
          "ename": "NameError",
          "evalue": "ignored",
          "traceback": [
            "\u001b[0;31m---------------------------------------------------------------------------\u001b[0m",
            "\u001b[0;31mNameError\u001b[0m                                 Traceback (most recent call last)",
            "\u001b[0;32m<ipython-input-1-8edf7f584f51>\u001b[0m in \u001b[0;36m<module>\u001b[0;34m()\u001b[0m\n\u001b[1;32m      1\u001b[0m \u001b[0;31m# But du code : Afficher les valeurs manquantes pour chaque variable en utilisant la fonction isnull( ) et sum() de pandas\u001b[0m\u001b[0;34m\u001b[0m\u001b[0;34m\u001b[0m\u001b[0;34m\u001b[0m\u001b[0m\n\u001b[1;32m      2\u001b[0m \u001b[0;34m\u001b[0m\u001b[0m\n\u001b[0;32m----> 3\u001b[0;31m \u001b[0mdb_train_na\u001b[0m \u001b[0;34m=\u001b[0m \u001b[0mdb_train\u001b[0m\u001b[0;34m.\u001b[0m\u001b[0misnull\u001b[0m\u001b[0;34m(\u001b[0m\u001b[0;34m)\u001b[0m\u001b[0;34m.\u001b[0m\u001b[0msum\u001b[0m\u001b[0;34m(\u001b[0m\u001b[0;34m)\u001b[0m\u001b[0;34m\u001b[0m\u001b[0;34m\u001b[0m\u001b[0m\n\u001b[0m\u001b[1;32m      4\u001b[0m \u001b[0;34m\u001b[0m\u001b[0m\n\u001b[1;32m      5\u001b[0m \u001b[0mprint\u001b[0m\u001b[0;34m(\u001b[0m\u001b[0mdb_train_na\u001b[0m\u001b[0;34m.\u001b[0m\u001b[0msort_values\u001b[0m\u001b[0;34m(\u001b[0m\u001b[0mascending\u001b[0m\u001b[0;34m=\u001b[0m\u001b[0;32mFalse\u001b[0m\u001b[0;34m)\u001b[0m\u001b[0;34m)\u001b[0m\u001b[0;34m\u001b[0m\u001b[0;34m\u001b[0m\u001b[0m\n",
            "\u001b[0;31mNameError\u001b[0m: name 'db_train' is not defined"
          ]
        }
      ],
      "source": [
        "# But du code : Afficher les valeurs manquantes pour chaque variable en utilisant la fonction isnull( ) et sum() de pandas\n",
        "\n",
        "db_train_na = db_train.isnull().sum()\n",
        "\n",
        "print(db_train_na.sort_values(ascending=False))\n",
        "\n",
        "del db_train_na"
      ]
    },
    {
      "cell_type": "markdown",
      "metadata": {
        "id": "-2uVqjmn_Okr"
      },
      "source": [
        "#### B- Base Train : Remplissage des valeurs manquantes (missing values)"
      ]
    },
    {
      "cell_type": "code",
      "execution_count": null,
      "metadata": {
        "id": "LDJ36-kY_Okr"
      },
      "outputs": [],
      "source": [
        "na_values = {\n",
        "\n",
        "'X3': db_train[\"X4\"].mode()[0]\n",
        "}\n",
        "\n",
        "\n",
        "# Remplissage des valeurs manquantes.\n",
        "db_train = db_train.fillna(value=na_values)"
      ]
    },
    {
      "cell_type": "code",
      "source": [
        "db_train.isnull().sum().sort_values(ascending=False)"
      ],
      "metadata": {
        "id": "lBqvZLD0t3lO"
      },
      "execution_count": null,
      "outputs": []
    },
    {
      "cell_type": "markdown",
      "metadata": {
        "id": "qET6eOxc_Oks"
      },
      "source": [
        "#### C- Base Test : Remplissage des valeurs manquantes (missing values)"
      ]
    },
    {
      "cell_type": "markdown",
      "metadata": {
        "id": "-O3NLbgA_Oks"
      },
      "source": [
        "<span style=\"color:red;font-weight: bolder\">Question :</span> Remplacer les valeurs manquantes dans la base test en utilisant le code du précédent TP.<br />\n",
        "<em>Précisement, il faut remplacer les trois points (...) par le code Python correspondant.</em>."
      ]
    },
    {
      "cell_type": "code",
      "execution_count": null,
      "metadata": {
        "id": "hggfvuFS_Oks"
      },
      "outputs": [],
      "source": [
        "# But du code : Remplir les valeurs manquantes.\n",
        "db_test = db_test.fillna(value=na_values)"
      ]
    },
    {
      "cell_type": "code",
      "source": [
        "# Comptabilisation des valeurs manquantes\n",
        "db_test.isnull().sum().sort_values(ascending=False)"
      ],
      "metadata": {
        "id": "PWRwV3ENtgJ3"
      },
      "execution_count": null,
      "outputs": []
    },
    {
      "cell_type": "markdown",
      "metadata": {
        "id": "ikVOBOrV_Oks"
      },
      "source": [
        "**Conclusion : il n'y a plus de valeurs manquantes dans les bases train et test.**"
      ]
    },
    {
      "cell_type": "markdown",
      "metadata": {
        "id": "6Or2Hv09_Oks"
      },
      "source": [
        "## - Data Treatement : Standardisation des données"
      ]
    },
    {
      "cell_type": "markdown",
      "metadata": {
        "id": "1TZm-dNL_Oku"
      },
      "source": [
        "<span style=\"color:red;font-weight: bolder\">Les variables explicatives numériques (quantitativers) peuvent avoir des ordres de grandeurs différents</span>. Cela peut impacter des modèles dont ceux de Machine Learning en accordant à tort plus d’importance à la variable Y.\n",
        "\n",
        "Pour résoudre ce problème, il suffit de standardiser ou normaliser la base train et la base test. La\n",
        "standardisation se fait en utilisant le code ci-dessous."
      ]
    },
    {
      "cell_type": "markdown",
      "metadata": {
        "id": "DNrzUsUb_Oku"
      },
      "source": [
        "#### A- Liste des variables numériques"
      ]
    },
    {
      "cell_type": "markdown",
      "metadata": {
        "id": "ntcGDRiS_Oku"
      },
      "source": [
        "<em>**Les codes ci-dessous permettent de standardiser les données pour construire notamment les modèles de Mahine Learning.**</em>\n",
        "\n",
        "Pour se faire, il faut déterminer les variables qualitatives."
      ]
    },
    {
      "cell_type": "code",
      "execution_count": null,
      "metadata": {
        "id": "ytMuEzIK_Oku",
        "colab": {
          "base_uri": "https://localhost:8080/",
          "height": 236
        },
        "outputId": "04521d09-1e8d-4d39-838d-744950338ace"
      },
      "outputs": [
        {
          "output_type": "error",
          "ename": "NameError",
          "evalue": "ignored",
          "traceback": [
            "\u001b[0;31m---------------------------------------------------------------------------\u001b[0m",
            "\u001b[0;31mNameError\u001b[0m                                 Traceback (most recent call last)",
            "\u001b[0;32m<ipython-input-1-a6680255cabf>\u001b[0m in \u001b[0;36m<module>\u001b[0;34m()\u001b[0m\n\u001b[1;32m      1\u001b[0m \u001b[0;31m#Ce code permet de déterminer les variables qualitatives.\u001b[0m\u001b[0;34m\u001b[0m\u001b[0;34m\u001b[0m\u001b[0;34m\u001b[0m\u001b[0m\n\u001b[0;32m----> 2\u001b[0;31m \u001b[0mdb_train_numericals_columns\u001b[0m \u001b[0;34m=\u001b[0m \u001b[0mdataset\u001b[0m\u001b[0;34m.\u001b[0m\u001b[0mselect_dtypes\u001b[0m\u001b[0;34m(\u001b[0m\u001b[0;34m'number'\u001b[0m\u001b[0;34m)\u001b[0m\u001b[0;34m\u001b[0m\u001b[0;34m\u001b[0m\u001b[0m\n\u001b[0m\u001b[1;32m      3\u001b[0m \u001b[0;34m\u001b[0m\u001b[0m\n\u001b[1;32m      4\u001b[0m \u001b[0;31m#Affichager de la variable : db_train_numericals_columns\u001b[0m\u001b[0;34m\u001b[0m\u001b[0;34m\u001b[0m\u001b[0;34m\u001b[0m\u001b[0m\n\u001b[1;32m      5\u001b[0m \u001b[0mprint\u001b[0m\u001b[0;34m(\u001b[0m\u001b[0mdb_train_numericals_columns\u001b[0m\u001b[0;34m)\u001b[0m\u001b[0;34m\u001b[0m\u001b[0;34m\u001b[0m\u001b[0m\n",
            "\u001b[0;31mNameError\u001b[0m: name 'dataset' is not defined"
          ]
        }
      ],
      "source": [
        "#Ce code permet de déterminer les variables qualitatives.\n",
        "db_train_numericals_columns = dataset.select_dtypes('number')\n",
        "\n",
        "#Affichager de la variable : db_train_numericals_columns\n",
        "print(db_train_numericals_columns)"
      ]
    },
    {
      "cell_type": "code",
      "execution_count": null,
      "metadata": {
        "id": "ZncsBXD3_Okv"
      },
      "outputs": [],
      "source": [
        "#Détermination des variables numériques\n",
        "numericals_features = db_train_numericals_columns.columns\n",
        "numericals_features"
      ]
    },
    {
      "cell_type": "markdown",
      "source": [
        "On peut constater qu'il n'y a pas des valeurs catégoriques"
      ],
      "metadata": {
        "id": "Ts4kgckpg6fm"
      }
    },
    {
      "cell_type": "markdown",
      "source": [
        "Comme l'ensemble de données contient des variables numériques, il n'est pas nécessaire d'appliquer Encoding"
      ],
      "metadata": {
        "id": "Zlv__ADkvCHq"
      }
    },
    {
      "cell_type": "markdown",
      "metadata": {
        "id": "VwROfFSm_Okw"
      },
      "source": [
        "#### B- Standization de la base train"
      ]
    },
    {
      "cell_type": "code",
      "execution_count": null,
      "metadata": {
        "id": "W-QSy0sw_Okw"
      },
      "outputs": [],
      "source": [
        "print(\"AFFICHAGE DES INFORMATIONS SUR LA BASE TEST AVANT STANDIRDASATION\")\n",
        "db_test.describe()\n"
      ]
    },
    {
      "cell_type": "code",
      "execution_count": null,
      "metadata": {
        "id": "TRXUvM7l_Okw"
      },
      "outputs": [],
      "source": [
        "# But du code : la méthode MinMaxScaler est une technique de standardisation de sklearn.\n",
        "from sklearn.preprocessing import MinMaxScaler\n",
        "scaler = MinMaxScaler()"
      ]
    },
    {
      "cell_type": "code",
      "execution_count": null,
      "metadata": {
        "id": "tsEtZfN6_Okw"
      },
      "outputs": [],
      "source": [
        "\n",
        "### Standardisation de la base train\n",
        "db_train[numericals_features]  = scaler.fit_transform(db_train[numericals_features].to_numpy())\n",
        "\n",
        "# Affichage des 2 premières lignes de la base train\n",
        "db_train.head(2)"
      ]
    },
    {
      "cell_type": "code",
      "execution_count": null,
      "metadata": {
        "id": "gnb7pfg3_Okw"
      },
      "outputs": [],
      "source": [
        "print(\"AFFICHAGE DES INFORMATIONS SUR LA BASE TEST APRÈS STANDIRDASATION\")\n",
        "db_train.describe()\n",
        "\n",
        "#Conclusion : on constate que la variable X2 varie entre 0.0000 (min) et 1.000 (max)."
      ]
    },
    {
      "cell_type": "markdown",
      "metadata": {
        "id": "K9RysMYH_Okx"
      },
      "source": [
        "#### C- Standization de la base test"
      ]
    },
    {
      "cell_type": "code",
      "execution_count": null,
      "metadata": {
        "id": "i7A0e4s8_Okx"
      },
      "outputs": [],
      "source": [
        "#But du code : la fonction scaler.transform standardise la base test.\n",
        "\n",
        "db_test[numericals_features]  = scaler.transform(db_test[numericals_features].to_numpy())"
      ]
    },
    {
      "cell_type": "markdown",
      "metadata": {
        "id": "et3TAWm3_Oky"
      },
      "source": [
        "## - Variables de modélisation"
      ]
    },
    {
      "cell_type": "markdown",
      "metadata": {
        "id": "hbyBU05N_Oky"
      },
      "source": [
        "#### A- Identification de la variable Y et de la variable X"
      ]
    },
    {
      "cell_type": "code",
      "execution_count": null,
      "metadata": {
        "id": "FT2lz6a6_Okz"
      },
      "outputs": [],
      "source": [
        "# target contient le nom de la variable Y\n",
        "target = 'Y'\n",
        "\n",
        "# features contient les noms des variables X\n",
        "features = list(set(db_train.columns) - set(target.split()))\n",
        "print(features)"
      ]
    },
    {
      "cell_type": "markdown",
      "metadata": {
        "id": "MEy6yXz7_Okz"
      },
      "source": [
        "#### B- Base train : Détermination de la variable Y et X"
      ]
    },
    {
      "cell_type": "code",
      "execution_count": null,
      "metadata": {
        "id": "l0qMBZ6L_Okz"
      },
      "outputs": [],
      "source": [
        "# y_train contient les données de Y sur la base train\n",
        "y_train = db_train[target]\n",
        "\n",
        "# x_train contient les données descriptives des clients de la base train (il s'agit de la matrice X du modèle)\n",
        "x_train = db_train[features]"
      ]
    },
    {
      "cell_type": "markdown",
      "metadata": {
        "id": "aDmDdAFy_Okz"
      },
      "source": [
        "#### C- Base test : Détermination de la variable Y et X"
      ]
    },
    {
      "cell_type": "code",
      "execution_count": null,
      "metadata": {
        "id": "zFFDmhoS_Okz"
      },
      "outputs": [],
      "source": [
        "# y_test contient les données de Y sur la base train\n",
        "y_test = db_test[target]\n",
        "\n",
        "# x_test contient les données descriptives des clients de la base test (il s'agit de la matrice X du modèle)\n",
        "x_test = db_test[features]"
      ]
    },
    {
      "cell_type": "markdown",
      "metadata": {
        "id": "WJLWVux8_Ok0"
      },
      "source": [
        "# - Mesure de la Performance d'un Modèle"
      ]
    },
    {
      "cell_type": "markdown",
      "metadata": {
        "id": "7i5EdCUe_Ok0"
      },
      "source": [
        "La fonction **performance_modele** regroupe les codes déjà utilisés dans le précédent TP5. Cette fonction calcule plusieurs indicateurs de performance d’un modèle, en particulier l’**AUC**. Les paramètres de la fonction sont :\n",
        "* **modele_name** : le nom du modèle dont la performance sera analysée.\n",
        "* **modele** : le modèle construit par sklearn.\n",
        "* **dataset_name** : le nom de la base d’évaluation de la performance du modèle.\n",
        "* **x_dataset** : les données descriptives des clients (il s'agit de la matrice X du modèle).\n",
        "* **y_dataset** : les valeurs de la variable Y."
      ]
    },
    {
      "cell_type": "code",
      "execution_count": null,
      "metadata": {
        "id": "EphTGof__Ok0"
      },
      "outputs": [],
      "source": [
        "from sklearn import metrics\n",
        "\n",
        "def performance_modele(modele_name, modele, dataset_name, x_dataset, y_dataset) :\n",
        "\n",
        "    # MESSAGE D'AFFICHAGE\n",
        "    print(color.BOLD + \"\\n===============================[EVALUATION DU MODELE : \" + modele_name + \" SUR LE DATASET : \" + dataset_name + \"]===============================\")\n",
        "\n",
        "    #0- PREDICTION DU MODÈLE\n",
        "    y_pred = modele.predict(x_dataset)\n",
        "\n",
        "    #1- MATRIC DE CONFUSION\n",
        "    cm_logit = metrics.confusion_matrix(y_dataset,y_pred)\n",
        "    print(\"1. MATRIC DE CONFUSION :\" )\n",
        "    print(cm_logit)\n",
        "\n",
        "    #2- TAUX D'ERREUR DE CLASSEMENT\n",
        "    #a- Taux de succès\n",
        "    as_modele = metrics.accuracy_score(y_true = y_dataset, y_pred = y_pred)\n",
        "    print(\"\\n2-1. ACCURACY SCORE : {:.0%}\".format(as_modele))\n",
        "\n",
        "    #b- Taux d'erreur de classement\n",
        "    err = 1.0 - as_modele\n",
        "    print(\"\\n2-2. TAUX D'ERREUR : {:.0%}\".format(err))\n",
        "\n",
        "\n",
        "    #4-AUC DU MODÈLE\n",
        "    y_proba_pred = modele.predict_proba(x_dataset)[:, 1]\n",
        "\n",
        "    #### B- Calcul des faux positifs et des vrais positifs\n",
        "    fpr, tpr, threshold = sklearn.metrics.roc_curve(y_dataset, y_proba_pred, pos_label=1)\n",
        "\n",
        "    #AUC\n",
        "    roc_auc = sklearn.metrics.auc(fpr, tpr)\n",
        "    print(\"\\n3. AUC : {:.0%}\".format(roc_auc))\n",
        "\n",
        "    #RESULTAT DE LA FONCTION\n",
        "    print(color.BOLD + \"===============================[FIN EVALUATION DU MODELE : \" + modele_name + \" SUR LE DATASET : \" + dataset_name + \"]===============================\"+color.END)\n",
        "\n",
        "    return roc_auc, fpr, tpr"
      ]
    },
    {
      "cell_type": "markdown",
      "metadata": {
        "id": "C8DCtfeC_Ok0"
      },
      "source": [
        "# - Régression Logistique"
      ]
    },
    {
      "cell_type": "markdown",
      "metadata": {
        "id": "6oCKkHpw_Ok0"
      },
      "source": [
        "## - Estimation du modèle logistique"
      ]
    },
    {
      "cell_type": "code",
      "execution_count": null,
      "metadata": {
        "id": "w2FJhps__Ok0"
      },
      "outputs": [],
      "source": [
        "#7.1- Formulation du modèle de régression logistique\n",
        "from sklearn.linear_model import LogisticRegression"
      ]
    },
    {
      "cell_type": "code",
      "execution_count": null,
      "metadata": {
        "id": "Uul2QR20_Ok1"
      },
      "outputs": [],
      "source": [
        "#Définission du modèle de régression logistique\n",
        "logistic_modele = LogisticRegression(solver=\"liblinear\")"
      ]
    },
    {
      "cell_type": "code",
      "execution_count": null,
      "metadata": {
        "id": "ZUrPME6m_Ok1",
        "colab": {
          "base_uri": "https://localhost:8080/",
          "height": 183
        },
        "outputId": "4280cc51-51d2-4162-fe8e-57dc226eb471"
      },
      "outputs": [
        {
          "output_type": "error",
          "ename": "NameError",
          "evalue": "ignored",
          "traceback": [
            "\u001b[0;31m---------------------------------------------------------------------------\u001b[0m",
            "\u001b[0;31mNameError\u001b[0m                                 Traceback (most recent call last)",
            "\u001b[0;32m<ipython-input-6-3a69a46fa8e9>\u001b[0m in \u001b[0;36m<module>\u001b[0;34m()\u001b[0m\n\u001b[1;32m      1\u001b[0m \u001b[0;31m#7.2- Estimation des paramètres du modèle\u001b[0m\u001b[0;34m\u001b[0m\u001b[0;34m\u001b[0m\u001b[0;34m\u001b[0m\u001b[0m\n\u001b[0;32m----> 2\u001b[0;31m \u001b[0mlogistic_modele\u001b[0m\u001b[0;34m.\u001b[0m\u001b[0mfit\u001b[0m\u001b[0;34m(\u001b[0m\u001b[0mx_train\u001b[0m\u001b[0;34m,\u001b[0m\u001b[0my_train\u001b[0m\u001b[0;34m)\u001b[0m\u001b[0;34m\u001b[0m\u001b[0;34m\u001b[0m\u001b[0m\n\u001b[0m",
            "\u001b[0;31mNameError\u001b[0m: name 'x_train' is not defined"
          ]
        }
      ],
      "source": [
        "#7.2- Estimation des paramètres du modèle\n",
        "logistic_modele.fit(x_train,y_train)"
      ]
    },
    {
      "cell_type": "code",
      "execution_count": null,
      "metadata": {
        "id": "cabPib97_Ok1",
        "colab": {
          "base_uri": "https://localhost:8080/",
          "height": 235
        },
        "outputId": "2e1bc3cd-5005-4735-e7da-b32a5a8b7757"
      },
      "outputs": [
        {
          "output_type": "error",
          "ename": "AttributeError",
          "evalue": "ignored",
          "traceback": [
            "\u001b[0;31m---------------------------------------------------------------------------\u001b[0m",
            "\u001b[0;31mAttributeError\u001b[0m                            Traceback (most recent call last)",
            "\u001b[0;32m<ipython-input-7-a1dea37a192e>\u001b[0m in \u001b[0;36m<module>\u001b[0;34m()\u001b[0m\n\u001b[1;32m      2\u001b[0m \u001b[0;34m\u001b[0m\u001b[0m\n\u001b[1;32m      3\u001b[0m \u001b[0;31m# Coefficiant de  X0\u001b[0m\u001b[0;34m\u001b[0m\u001b[0;34m\u001b[0m\u001b[0;34m\u001b[0m\u001b[0m\n\u001b[0;32m----> 4\u001b[0;31m \u001b[0mconstante_coeff\u001b[0m \u001b[0;34m=\u001b[0m \u001b[0mpd\u001b[0m\u001b[0;34m.\u001b[0m\u001b[0mDataFrame\u001b[0m\u001b[0;34m(\u001b[0m\u001b[0;34m{\u001b[0m\u001b[0;34m\"Feature\"\u001b[0m\u001b[0;34m:\u001b[0m\u001b[0;34m[\u001b[0m\u001b[0;34m'constante'\u001b[0m\u001b[0;34m]\u001b[0m\u001b[0;34m,\u001b[0m\u001b[0;34m\"Coefficients\"\u001b[0m\u001b[0;34m:\u001b[0m\u001b[0mlogistic_modele\u001b[0m\u001b[0;34m.\u001b[0m\u001b[0mintercept_\u001b[0m\u001b[0;34m[\u001b[0m\u001b[0;36m0\u001b[0m\u001b[0;34m]\u001b[0m\u001b[0;34m}\u001b[0m\u001b[0;34m)\u001b[0m\u001b[0;34m\u001b[0m\u001b[0;34m\u001b[0m\u001b[0m\n\u001b[0m\u001b[1;32m      5\u001b[0m \u001b[0;34m\u001b[0m\u001b[0m\n\u001b[1;32m      6\u001b[0m \u001b[0;31m# Coefficiant de  X\u001b[0m\u001b[0;34m\u001b[0m\u001b[0;34m\u001b[0m\u001b[0;34m\u001b[0m\u001b[0m\n",
            "\u001b[0;31mAttributeError\u001b[0m: 'LogisticRegression' object has no attribute 'intercept_'"
          ]
        }
      ],
      "source": [
        "## 7.3- Affichage des coefficient\n",
        "\n",
        "# Coefficiant de  X0\n",
        "constante_coeff = pd.DataFrame({\"Feature\":['constante'],\"Coefficients\":logistic_modele.intercept_[0]})\n",
        "\n",
        "# Coefficiant de  X\n",
        "x_coeff = pd.DataFrame({\"Feature\":features,\"Coefficients\":logistic_modele.coef_[0]})\n",
        "\n",
        "coefficient = pd.concat([constante_coeff,x_coeff])\n",
        "coefficient.head(2)"
      ]
    },
    {
      "cell_type": "markdown",
      "metadata": {
        "id": "Wm88UM74_Ok2"
      },
      "source": [
        "## - Performance du modèle logistique sur la base train"
      ]
    },
    {
      "cell_type": "markdown",
      "metadata": {
        "id": "mW_NVKDP_Ok2"
      },
      "source": [
        "Le code suivant permet de **mesurer** la performance du modèle sur la **base d'apprentissage train**. <span style=\"color:red;font-weight: bolder\">Cela permet de s'assurer que le modèle a bien appris dans la phase d'apprentissage.</span>"
      ]
    },
    {
      "cell_type": "code",
      "execution_count": null,
      "metadata": {
        "id": "CfDkqLWW_Ok2",
        "colab": {
          "base_uri": "https://localhost:8080/",
          "height": 235
        },
        "outputId": "e6472842-9a6e-4aad-ea64-b0246593c255"
      },
      "outputs": [
        {
          "output_type": "error",
          "ename": "NameError",
          "evalue": "ignored",
          "traceback": [
            "\u001b[0;31m---------------------------------------------------------------------------\u001b[0m",
            "\u001b[0;31mNameError\u001b[0m                                 Traceback (most recent call last)",
            "\u001b[0;32m<ipython-input-13-93d5a81a0f8a>\u001b[0m in \u001b[0;36m<module>\u001b[0;34m()\u001b[0m\n\u001b[0;32m----> 1\u001b[0;31m roc_auc_logit_train, fpr_logit_train, tpr_logit_train = performance_modele( modele_name = \"Logistique\",      \n\u001b[0m\u001b[1;32m      2\u001b[0m                                                                          \u001b[0mmodele\u001b[0m \u001b[0;34m=\u001b[0m \u001b[0mlogistic_modele\u001b[0m\u001b[0;34m,\u001b[0m\u001b[0;34m\u001b[0m\u001b[0;34m\u001b[0m\u001b[0m\n\u001b[1;32m      3\u001b[0m                                                                          \u001b[0mdataset_name\u001b[0m \u001b[0;34m=\u001b[0m \u001b[0;34m\"Train\"\u001b[0m\u001b[0;34m,\u001b[0m\u001b[0;34m\u001b[0m\u001b[0;34m\u001b[0m\u001b[0m\n\u001b[1;32m      4\u001b[0m                                                                          \u001b[0mx_dataset\u001b[0m \u001b[0;34m=\u001b[0m \u001b[0mx_train\u001b[0m\u001b[0;34m,\u001b[0m\u001b[0;34m\u001b[0m\u001b[0;34m\u001b[0m\u001b[0m\n\u001b[1;32m      5\u001b[0m                                                                          y_dataset = y_train)\n",
            "\u001b[0;31mNameError\u001b[0m: name 'performance_modele' is not defined"
          ]
        }
      ],
      "source": [
        "roc_auc_logit_train, fpr_logit_train, tpr_logit_train = performance_modele( modele_name = \"Logistique\",\n",
        "                                                                         modele = logistic_modele,\n",
        "                                                                         dataset_name = \"Train\",\n",
        "                                                                         x_dataset = x_train,\n",
        "                                                                         y_dataset = y_train)"
      ]
    },
    {
      "cell_type": "markdown",
      "metadata": {
        "id": "j8HrMaqj_Ok2"
      },
      "source": [
        "## - Performance du modèle logistique sur la base test"
      ]
    },
    {
      "cell_type": "markdown",
      "metadata": {
        "id": "qqIcfwT6_Ok2"
      },
      "source": [
        "Le code suivant **mesure** la performance du modèle sur **la base de test**, i.e., <span style=\"color:red;font-weight: bolder\">il permet de s'assurer que le modèle reflète bien la réalité.</span>"
      ]
    },
    {
      "cell_type": "code",
      "execution_count": null,
      "metadata": {
        "id": "XBpNq-ZG_Ok3",
        "colab": {
          "base_uri": "https://localhost:8080/"
        },
        "outputId": "6ade4dc7-45a1-4f10-9c92-4a4e150cec48"
      },
      "outputs": [
        {
          "output_type": "stream",
          "name": "stdout",
          "text": [
            "\u001b[1m\n",
            "===============================[EVALUATION DU MODELE : Logistique SUR LE DATASET : Test]===============================\n",
            "1. MATRIC DE CONFUSION :\n",
            "[[59  2]\n",
            " [ 8 11]]\n",
            "\n",
            "2-1. ACCURACY SCORE : 88%\n",
            "\n",
            "2-2. TAUX D'ERREUR : 12%\n",
            "\n",
            "3. AUC : 95%\n",
            "\u001b[1m===============================[FIN EVALUATION DU MODELE : Logistique SUR LE DATASET : Test]===============================\u001b[0m\n"
          ]
        }
      ],
      "source": [
        "roc_auc_logit_test, fpr_logit_test, tpr_logit_test = performance_modele( modele_name = \"Logistique\",\n",
        "                                                                         modele = logistic_modele,\n",
        "                                                                         dataset_name = \"Test\",\n",
        "                                                                         x_dataset = x_test,\n",
        "                                                                         y_dataset = y_test)"
      ]
    },
    {
      "cell_type": "markdown",
      "metadata": {
        "id": "_ARtx_BR_Ok3"
      },
      "source": [
        "<span style=\"color:red;font-weight: bolder\">Question :</span> Que peut-on conclure sur le modèle de régression logistique ?"
      ]
    },
    {
      "cell_type": "markdown",
      "metadata": {
        "id": "Eo2nBagm_Ok3"
      },
      "source": [
        "**Conclusion :** <br/>\n",
        "Le modèle de régression logistique a un AUC de 96% sur la base de train et 95% sur la base de test. Cela ne représente pas un écart d’AUC entre le train et le test.\n",
        "\n",
        ""
      ]
    },
    {
      "cell_type": "markdown",
      "metadata": {
        "id": "JU2D1pXM_Ok3"
      },
      "source": [
        "# - Gradient Boosting (Light Gradient Boosting Machine) : lgbm"
      ]
    },
    {
      "cell_type": "markdown",
      "metadata": {
        "id": "kMFQE_GF_Ok3"
      },
      "source": [
        "**Le modèle de Boosting (Light Gradient Boosting Machine)** sera construit par la fonction **LGBMClassifier** de la librairie **lightgbm**."
      ]
    },
    {
      "cell_type": "markdown",
      "metadata": {
        "id": "Hm-hBkj3_Ok3"
      },
      "source": [
        "## - Formulation du modèle lgbm"
      ]
    },
    {
      "cell_type": "markdown",
      "metadata": {
        "id": "QDEDQa4C_Ok4"
      },
      "source": [
        "<span style=\"color:red;font-weight: bolder\">Question :</span> Importer la librairie [**lightgbm**](https://lightgbm.readthedocs.io/en/latest/Python-Intro.html) qui sera notée **lgb**."
      ]
    },
    {
      "cell_type": "code",
      "execution_count": null,
      "metadata": {
        "id": "GsZ8mNdx_Ok4"
      },
      "outputs": [],
      "source": [
        "#Importation de la librairie lightgbm\n",
        "import lightgbm as lgb"
      ]
    },
    {
      "cell_type": "code",
      "execution_count": null,
      "metadata": {
        "id": "oqp2Grcv_Ok4"
      },
      "outputs": [],
      "source": [
        "#Formulation du modele : lgbm_modele est la variable Python contenant le modèle de Boosting (Light Gradient Boosting Machine).\n",
        "lgbm_modele = lgb.LGBMClassifier()"
      ]
    },
    {
      "cell_type": "markdown",
      "metadata": {
        "id": "RFmCaIVX_Ok4"
      },
      "source": [
        "## - Définition des paramètres du modèle lgbm"
      ]
    },
    {
      "cell_type": "markdown",
      "metadata": {
        "id": "Co1krYts_Ok4"
      },
      "source": [
        "**NB :** Pour plus de détails sur l'explication des paramètres du lbm, voir le lien ci-dessous\n",
        "https://readthedocs.org/projects/lightgbm/downloads/pdf/latest/."
      ]
    },
    {
      "cell_type": "code",
      "execution_count": null,
      "metadata": {
        "id": "ZL8q2GC4_Ok4"
      },
      "outputs": [],
      "source": [
        "hyperparameter_lgbm = {\n",
        "#colsample_bytree : fraction de variables x à considerer dans la construction de chaque arbre agrégé.\n",
        "'colsample_bytree': 0.7928587601602566,\n",
        "\n",
        "#learning_rate : le pas de la descente du gradient durant l'optimisation de la fonction d'erreur.\n",
        "'learning_rate': 0.008335249153432506,\n",
        "\n",
        "#max_depth : la taille ou la profondeur maximale des arbres agrégés.\n",
        "'max_depth': 6,\n",
        "\n",
        "#n_estimators : le nombnre d'arbres agrégés.\n",
        "'n_estimators': 100,\n",
        "\n",
        "#reg_alpha : Poids de regularization L1 de l'algorithme d'optimisation permettant d'estimer les paramètres du modèle.\n",
        "'reg_alpha': 0.9990354222430756,\n",
        "\n",
        "#reg_lambda : Poids de regularization L2 de l'algorithme d'optimisation permettant d'estimer les paramètres du modèle.\n",
        "'reg_lambda': 0.718606337361164,\n",
        "\n",
        "#subsample_for_bin : Nombres d'observations pour discrétiser les variables quantatives.\n",
        "'subsample_for_bin': 200,\n",
        "\n",
        "#random_state : permet d'avoir des résultats reproductibles.\n",
        "'random_state' : 10\n",
        "}"
      ]
    },
    {
      "cell_type": "markdown",
      "metadata": {
        "id": "VvHOQTII_Ok5"
      },
      "source": [
        "## - Affectation des paramètres du modèle lgbm"
      ]
    },
    {
      "cell_type": "code",
      "execution_count": null,
      "metadata": {
        "id": "Jwfz9ubs_Ok5",
        "colab": {
          "base_uri": "https://localhost:8080/"
        },
        "outputId": "a78d4a29-bd05-4419-e5a4-174ccf576d01"
      },
      "outputs": [
        {
          "output_type": "execute_result",
          "data": {
            "text/plain": [
              "LGBMClassifier(colsample_bytree=0.7928587601602566,\n",
              "               learning_rate=0.008335249153432506, max_depth=6, random_state=10,\n",
              "               reg_alpha=0.9990354222430756, reg_lambda=0.718606337361164,\n",
              "               subsample_for_bin=200)"
            ]
          },
          "metadata": {},
          "execution_count": 46
        }
      ],
      "source": [
        "# Affectation des paramètres\n",
        "lgbm_modele.set_params(**hyperparameter_lgbm)"
      ]
    },
    {
      "cell_type": "markdown",
      "metadata": {
        "id": "I5qQ6DpL_Ok5"
      },
      "source": [
        "## - Estimation du modèle lgbm"
      ]
    },
    {
      "cell_type": "code",
      "execution_count": null,
      "metadata": {
        "id": "otwcpiSw_Ok5",
        "colab": {
          "base_uri": "https://localhost:8080/"
        },
        "outputId": "dd0e45ca-e7f2-4f15-9c3a-dde6030fd827"
      },
      "outputs": [
        {
          "output_type": "execute_result",
          "data": {
            "text/plain": [
              "LGBMClassifier(colsample_bytree=0.7928587601602566,\n",
              "               learning_rate=0.008335249153432506, max_depth=6, random_state=10,\n",
              "               reg_alpha=0.9990354222430756, reg_lambda=0.718606337361164,\n",
              "               subsample_for_bin=200)"
            ]
          },
          "metadata": {},
          "execution_count": 47
        }
      ],
      "source": [
        "lgbm_modele.fit(x_train, y_train)"
      ]
    },
    {
      "cell_type": "markdown",
      "metadata": {
        "id": "PkVTu-BS_Ok5"
      },
      "source": [
        "## - Performance du modèle sur la base train"
      ]
    },
    {
      "cell_type": "markdown",
      "metadata": {
        "id": "TdnIiVxL_Ok5"
      },
      "source": [
        "<span style=\"color:red;font-weight: bolder\">Question :</span> Mesurer la performance du modèle **lgbm** sur la base **train**.\n",
        "<em>Précisement, il faut remplacer les trois points (...) par le code Python correspondant</em>."
      ]
    },
    {
      "cell_type": "code",
      "execution_count": null,
      "metadata": {
        "id": "G6EkISqQ_Ok6",
        "colab": {
          "base_uri": "https://localhost:8080/"
        },
        "outputId": "266b4778-b2d5-42bb-d923-86a60a65d10a"
      },
      "outputs": [
        {
          "output_type": "stream",
          "name": "stdout",
          "text": [
            "\u001b[1m\n",
            "===============================[EVALUATION DU MODELE : lgbm SUR LE DATASET : Train]===============================\n",
            "1. MATRIC DE CONFUSION :\n",
            "[[243   2]\n",
            " [ 32  41]]\n",
            "\n",
            "2-1. ACCURACY SCORE : 89%\n",
            "\n",
            "2-2. TAUX D'ERREUR : 11%\n",
            "\n",
            "3. AUC : 98%\n",
            "\u001b[1m===============================[FIN EVALUATION DU MODELE : lgbm SUR LE DATASET : Train]===============================\u001b[0m\n"
          ]
        }
      ],
      "source": [
        "roc_auc_lgbm_train, fpr_lgbm_train, tpr_lgbm_train = performance_modele( modele_name = \"lgbm\",\n",
        "                                                                         modele = lgbm_modele,\n",
        "                                                                         dataset_name = \"Train\",\n",
        "                                                                         x_dataset = x_train,\n",
        "                                                                         y_dataset = y_train)"
      ]
    },
    {
      "cell_type": "markdown",
      "metadata": {
        "id": "lSmqxKk1_Ok6"
      },
      "source": [
        "## - Performance du modèle sur la base test"
      ]
    },
    {
      "cell_type": "code",
      "execution_count": null,
      "metadata": {
        "id": "N3-Ewj-t_Ok6",
        "colab": {
          "base_uri": "https://localhost:8080/"
        },
        "outputId": "45b4d50d-00c0-43f6-c753-e1910dc8e8f6"
      },
      "outputs": [
        {
          "output_type": "stream",
          "name": "stdout",
          "text": [
            "\u001b[1m\n",
            "===============================[EVALUATION DU MODELE : lgbm SUR LE DATASET : Test]===============================\n",
            "1. MATRIC DE CONFUSION :\n",
            "[[61  0]\n",
            " [ 9 10]]\n",
            "\n",
            "2-1. ACCURACY SCORE : 89%\n",
            "\n",
            "2-2. TAUX D'ERREUR : 11%\n",
            "\n",
            "3. AUC : 96%\n",
            "\u001b[1m===============================[FIN EVALUATION DU MODELE : lgbm SUR LE DATASET : Test]===============================\u001b[0m\n"
          ]
        }
      ],
      "source": [
        "roc_auc_lgbm_test, fpr_lgbm_test, tpr_lgbm_test = performance_modele( modele_name = \"lgbm\",\n",
        "                                                                         modele = lgbm_modele,\n",
        "                                                                         dataset_name = \"Test\",\n",
        "                                                                         x_dataset = x_test,\n",
        "                                                                         y_dataset = y_test)"
      ]
    },
    {
      "cell_type": "markdown",
      "metadata": {
        "id": "2Qor1NbV_Ok7"
      },
      "source": [
        "**Conclusion :** <br/>\n",
        "Le modèle de Boosting est meilleur que le modèle de régression logistique notamment sur la base de test."
      ]
    },
    {
      "cell_type": "markdown",
      "metadata": {
        "id": "byoZ8V5p_Ok7"
      },
      "source": [
        "# - Random Forest (RF)"
      ]
    },
    {
      "cell_type": "markdown",
      "metadata": {
        "id": "ueiooJWb_Ok7"
      },
      "source": [
        "## - Formulation du modèle RF"
      ]
    },
    {
      "cell_type": "markdown",
      "metadata": {
        "id": "eiWAVUZS_Ok7"
      },
      "source": [
        "**Le modèle de Random Forest** sera construit par la fonction **RandomForestClassifier** de la librairie **sklearn**.\n",
        "\n",
        "<span style=\"color:red;font-weight: bolder\">Question :</span> Importer la librairie [**RandomForestClassifier**](https://scikit-learn.org/stable/modules/generated/sklearn.ensemble.RandomForestClassifier.html)."
      ]
    },
    {
      "cell_type": "code",
      "execution_count": null,
      "metadata": {
        "id": "xLFhaEWv_Ok7"
      },
      "outputs": [],
      "source": [
        "# Importation de la librairie\n",
        "from sklearn.ensemble import RandomForestClassifier"
      ]
    },
    {
      "cell_type": "code",
      "execution_count": null,
      "metadata": {
        "id": "Ga536c7L_Ok7"
      },
      "outputs": [],
      "source": [
        "#Formulation du modèle\n",
        "rf_modele = RandomForestClassifier()"
      ]
    },
    {
      "cell_type": "markdown",
      "metadata": {
        "id": "Y9kuDS23_Ok8"
      },
      "source": [
        "## - Définition des paramètres du modèle RF"
      ]
    },
    {
      "cell_type": "markdown",
      "metadata": {
        "id": "cCPqHDzF_Ok-"
      },
      "source": [
        "**NB :** Pour plus de détails sur l'explication des paramètres du RF, voir le lien ci-dessous : <br />\n",
        "https://scikit-learn.org/stable/modules/generated/sklearn.ensemble.RandomForestClassifier.html."
      ]
    },
    {
      "cell_type": "code",
      "execution_count": null,
      "metadata": {
        "id": "pcTarRXb_Ok_"
      },
      "outputs": [],
      "source": [
        "hyperparameter_rf = {\n",
        "\n",
        "#class_weight : attribue un poids explicite à chaque valeur de la variable Y dans la construction du modèle (correction du problème de désquilibre de la base).\n",
        "'class_weight': 'balanced',\n",
        "\n",
        "#criterion  : critère de performance du modèle utilisé.\n",
        "'criterion': 'gini',\n",
        "\n",
        "#max_depth : la taille ou la profondeur maximale des arbres agrégés.\n",
        "'max_depth': 11,\n",
        "\n",
        "# max_features : Nombre de variables à tirer au sort pour construire les arbres agrégés à chaque itération.\n",
        "'max_features': 'sqrt',\n",
        "\n",
        "\n",
        "# min_samples_leaf: Nombre minimum d'observations dans une feuille des arbres agrégés.\n",
        "'min_samples_leaf': 0.08006146989323783,\n",
        "\n",
        "# min_samples_split : Nombre minimum d'observation requis pour diviser un nœud. Il peut être exprimer en fraction du nombre total d'observations.\n",
        "'min_samples_split': 0.15794570681082104,\n",
        "\n",
        "#n_estimators : le nombnre d'arbres agrégés.\n",
        "'n_estimators': 100,\n",
        "\n",
        "\n",
        "#random_state : permet d'avoir des résultats reproductibles.\n",
        "'random_state' : 10\n",
        "}"
      ]
    },
    {
      "cell_type": "markdown",
      "metadata": {
        "id": "_op5CAhv_Ok_"
      },
      "source": [
        "## - Affectation des paramètres du modèle RF"
      ]
    },
    {
      "cell_type": "code",
      "execution_count": null,
      "metadata": {
        "id": "QmybvOp5_Ok_",
        "colab": {
          "base_uri": "https://localhost:8080/"
        },
        "outputId": "e058de4e-5792-4fb6-e69b-2f376f03b4fc"
      },
      "outputs": [
        {
          "output_type": "execute_result",
          "data": {
            "text/plain": [
              "RandomForestClassifier(class_weight='balanced', max_depth=11,\n",
              "                       max_features='sqrt',\n",
              "                       min_samples_leaf=0.08006146989323783,\n",
              "                       min_samples_split=0.15794570681082104, random_state=10)"
            ]
          },
          "metadata": {},
          "execution_count": 53
        }
      ],
      "source": [
        "# Affectation des paramètres.\n",
        "rf_modele.set_params(**hyperparameter_rf)"
      ]
    },
    {
      "cell_type": "markdown",
      "metadata": {
        "id": "otrvWZIb_Ok_"
      },
      "source": [
        "## - Estimation du modèle RF"
      ]
    },
    {
      "cell_type": "markdown",
      "metadata": {
        "id": "PQ88QjEv_Ok_"
      },
      "source": [
        "<span style=\"color:red;font-weight: bolder\">Question :</span> Estimer les paramètres du modèle **RF**.\n",
        "<em>Précisement, il faut remplacer les trois points (...) par le code Python correspondant.</em>."
      ]
    },
    {
      "cell_type": "code",
      "execution_count": null,
      "metadata": {
        "id": "m7o_j47y_OlA",
        "colab": {
          "base_uri": "https://localhost:8080/"
        },
        "outputId": "5993d275-7410-4f75-bde2-eab6cf6bec24"
      },
      "outputs": [
        {
          "output_type": "execute_result",
          "data": {
            "text/plain": [
              "RandomForestClassifier(class_weight='balanced', max_depth=11,\n",
              "                       max_features='sqrt',\n",
              "                       min_samples_leaf=0.08006146989323783,\n",
              "                       min_samples_split=0.15794570681082104, random_state=10)"
            ]
          },
          "metadata": {},
          "execution_count": 54
        }
      ],
      "source": [
        "rf_modele.fit(x_train, y_train)"
      ]
    },
    {
      "cell_type": "markdown",
      "metadata": {
        "id": "lLeMebui_OlA"
      },
      "source": [
        "## - Performance du modèle sur la base de train"
      ]
    },
    {
      "cell_type": "markdown",
      "metadata": {
        "id": "Zh5lzFLu_OlA"
      },
      "source": [
        "<span style=\"color:red;font-weight: bolder\">Question :</span> Mesurer la performance du modèle **RF** sur la base **train**.\n",
        "<em>Précisement, il faut remplacer les trois points (...) par le code Python correspondant</em>."
      ]
    },
    {
      "cell_type": "code",
      "execution_count": null,
      "metadata": {
        "id": "qTlnA3xo_OlA",
        "colab": {
          "base_uri": "https://localhost:8080/"
        },
        "outputId": "bdc9e5ad-2d97-473a-f7cc-ce9d3a44bd68"
      },
      "outputs": [
        {
          "output_type": "stream",
          "name": "stdout",
          "text": [
            "\u001b[1m\n",
            "===============================[EVALUATION DU MODELE : rf SUR LE DATASET : train]===============================\n",
            "1. MATRIC DE CONFUSION :\n",
            "[[214  31]\n",
            " [  5  68]]\n",
            "\n",
            "2-1. ACCURACY SCORE : 89%\n",
            "\n",
            "2-2. TAUX D'ERREUR : 11%\n",
            "\n",
            "3. AUC : 97%\n",
            "\u001b[1m===============================[FIN EVALUATION DU MODELE : rf SUR LE DATASET : train]===============================\u001b[0m\n"
          ]
        }
      ],
      "source": [
        "roc_auc_rf_train, fpr_rf_train, tpr_rf_train = performance_modele( modele_name = \"rf\",\n",
        "                                                                         modele = rf_modele,\n",
        "                                                                         dataset_name = \"train\",\n",
        "                                                                         x_dataset = x_train,\n",
        "                                                                         y_dataset = y_train)"
      ]
    },
    {
      "cell_type": "markdown",
      "metadata": {
        "id": "4qXt9FzW_OlA"
      },
      "source": [
        "## - Performance du modèle sur la base de test"
      ]
    },
    {
      "cell_type": "markdown",
      "metadata": {
        "id": "uWHewQJ8_OlA"
      },
      "source": [
        "<span style=\"color:red;font-weight: bolder\">Question :</span> Mesurer la performance du modèle **RF** sur la base **test**.\n",
        "<em>Précisement, il faut remplacer les trois points (...) par le code Python correspondant</em>."
      ]
    },
    {
      "cell_type": "code",
      "execution_count": null,
      "metadata": {
        "id": "Pb0aogfZ_OlB",
        "colab": {
          "base_uri": "https://localhost:8080/"
        },
        "outputId": "59319ffa-6a06-4936-e77c-ef53b481cb73"
      },
      "outputs": [
        {
          "output_type": "stream",
          "name": "stdout",
          "text": [
            "\u001b[1m\n",
            "===============================[EVALUATION DU MODELE : rf SUR LE DATASET : test]===============================\n",
            "1. MATRIC DE CONFUSION :\n",
            "[[50 11]\n",
            " [ 1 18]]\n",
            "\n",
            "2-1. ACCURACY SCORE : 85%\n",
            "\n",
            "2-2. TAUX D'ERREUR : 15%\n",
            "\n",
            "3. AUC : 94%\n",
            "\u001b[1m===============================[FIN EVALUATION DU MODELE : rf SUR LE DATASET : test]===============================\u001b[0m\n"
          ]
        }
      ],
      "source": [
        "## - Performance du modèle sur la base de test\n",
        "roc_auc_rf_test, fpr_rf_test, tpr_rf_test = performance_modele( modele_name = \"rf\",\n",
        "                                                                         modele = rf_modele,\n",
        "                                                                         dataset_name = \"test\",\n",
        "                                                                         x_dataset = x_test,\n",
        "                                                                         y_dataset = y_test)"
      ]
    },
    {
      "cell_type": "markdown",
      "metadata": {
        "id": "rBe98XQf_OlB"
      },
      "source": [
        "**Conclusion :** <br/>\n",
        "Le modèle de Random Forest est moins fiable que le modèle de régression logistique."
      ]
    },
    {
      "cell_type": "markdown",
      "metadata": {
        "id": "W8NNmnc0_OlB"
      },
      "source": [
        "# - SVM (Support Vector Machine)"
      ]
    },
    {
      "cell_type": "markdown",
      "metadata": {
        "id": "fDz6xzI9_OlB"
      },
      "source": [
        "**Le modèle de SVM** sera construit par la fonction **SVC** de la librairie **sklearn**.\n",
        "\n",
        "<span style=\"color:red;font-weight: bolder\">Question :</span> Importer la librairie [**svm**](https://scikit-learn.org/stable/modules/generated/sklearn.svm.SVC.html)."
      ]
    },
    {
      "cell_type": "markdown",
      "metadata": {
        "id": "mFgcRM6v_OlB"
      },
      "source": [
        "## - Formulation du modèle SVM"
      ]
    },
    {
      "cell_type": "code",
      "execution_count": null,
      "metadata": {
        "id": "w9iQGCvh_OlB"
      },
      "outputs": [],
      "source": [
        "# Importation de la librairie\n",
        "from sklearn import svm"
      ]
    },
    {
      "cell_type": "code",
      "execution_count": null,
      "metadata": {
        "id": "QVqF8AzR_OlC"
      },
      "outputs": [],
      "source": [
        "#get_reproducible_results()\n",
        "svm_modele = svm.SVC(probability=True)"
      ]
    },
    {
      "cell_type": "markdown",
      "metadata": {
        "id": "avhLOJsy_OlC"
      },
      "source": [
        "**NB :** L'option **probability=True** permet au modèle SVM (i.e., svm_modele) de calculer la **probabilité P(Y=1).**"
      ]
    },
    {
      "cell_type": "markdown",
      "metadata": {
        "id": "Epf7s8A6_OlC"
      },
      "source": [
        "## - Définition des paramètres du modèle SVM"
      ]
    },
    {
      "cell_type": "markdown",
      "metadata": {
        "id": "HBJ7nZAx_OlC"
      },
      "source": [
        "**NB :** Pour plus de détails sur l'explication des paramètres du SVM, voir le lien ci-dessous : \\\n",
        "https://scikit-learn.org/stable/modules/generated/sklearn.svm.SVC.html."
      ]
    },
    {
      "cell_type": "code",
      "execution_count": null,
      "metadata": {
        "id": "RnoCJiFg_OlC"
      },
      "outputs": [],
      "source": [
        "hyperparameter_svm = {\n",
        "# C : Coût d'erreur de classification ou la marge de tolérance du modèle relative aux erreurs de classification.\n",
        "# Lorsque nous augmentons la valeur C, la marge diminue. Ainsi, les modèles avec des valeurs de C faibles ont tendance à être plus généralisés.\n",
        "'C': 30,\n",
        "\n",
        "# kernel : Type de noyau utilisé. Lorsque le SVM n'est pas performant, un autre noyau pourra être utilisé pour projéter les données dans une nouvelle dimension ou nouvel espace.\n",
        "'kernel': 'linear',\n",
        "\n",
        "\n",
        "# gamma : hyperparamètre utilisé avec SVM non linéaire. De faibles valeurs de gamma indiquent un grand rayon de similarité qui se traduit par le regroupement de plus de points.\n",
        "# Pour des valeurs élevées de gamma, les points doivent être très proches les uns des autres afin d'être considérés dans le même groupe (ou classe).\n",
        "# Par conséquent, les modèles avec des valeurs gamma très élevées ont tendance à se sur-ajuster.\n",
        "'gamma' : 7,\n",
        "\n",
        "#random_state : permet d'avoir des résultats reproductibles.\n",
        "'random_state' : 10\n",
        "}"
      ]
    },
    {
      "cell_type": "markdown",
      "metadata": {
        "id": "XXFY2ha4_OlD"
      },
      "source": [
        "## - Affectation des paramètres du modèle SVM"
      ]
    },
    {
      "cell_type": "code",
      "execution_count": null,
      "metadata": {
        "id": "y2Uge172_OlD",
        "colab": {
          "base_uri": "https://localhost:8080/"
        },
        "outputId": "19e4d78c-606c-40a7-91a8-df9c5b4d1d25"
      },
      "outputs": [
        {
          "output_type": "execute_result",
          "data": {
            "text/plain": [
              "SVC(C=30, gamma=7, kernel='linear', probability=True, random_state=10)"
            ]
          },
          "metadata": {},
          "execution_count": 60
        }
      ],
      "source": [
        "# Affectation des paramètres\n",
        "svm_modele.set_params(**hyperparameter_svm)"
      ]
    },
    {
      "cell_type": "markdown",
      "metadata": {
        "id": "dO5lAKOI_OlD"
      },
      "source": [
        "## - Estimation du modèle SVM"
      ]
    },
    {
      "cell_type": "markdown",
      "metadata": {
        "id": "C2TXrnnC_OlD"
      },
      "source": [
        "<span style=\"color:red;font-weight: bolder\">Question :</span> Estimer les paramètres du modèle **SVM**.\n",
        "<em>Précisement, il faut remplacer les trois points (...) par le code Python correspondant</em>."
      ]
    },
    {
      "cell_type": "code",
      "execution_count": null,
      "metadata": {
        "id": "ai91cl0x_OlD",
        "colab": {
          "base_uri": "https://localhost:8080/"
        },
        "outputId": "821bb485-1384-444c-c513-a1a4d928f6b6"
      },
      "outputs": [
        {
          "output_type": "execute_result",
          "data": {
            "text/plain": [
              "SVC(C=30, gamma=7, kernel='linear', probability=True, random_state=10)"
            ]
          },
          "metadata": {},
          "execution_count": 61
        }
      ],
      "source": [
        "svm_modele.fit(x_train, y_train)"
      ]
    },
    {
      "cell_type": "markdown",
      "metadata": {
        "id": "uiJNewky_OlD"
      },
      "source": [
        "## - Performance du modèle sur la base de train"
      ]
    },
    {
      "cell_type": "markdown",
      "metadata": {
        "id": "kzK79Jsw_OlE"
      },
      "source": [
        "<span style=\"color:red;font-weight: bolder\">Question :</span> Mesurer la performance du modèle **SVM** sur la base **train**.\n",
        "<em>Précisement, il faut remplacer les trois points (...) par le code Python correspondant</em>."
      ]
    },
    {
      "cell_type": "code",
      "execution_count": null,
      "metadata": {
        "id": "NkcukiBX_OlE",
        "colab": {
          "base_uri": "https://localhost:8080/"
        },
        "outputId": "3abc4e5e-6aef-4859-9cb5-2deebae0ab06"
      },
      "outputs": [
        {
          "output_type": "stream",
          "name": "stdout",
          "text": [
            "\u001b[1m\n",
            "===============================[EVALUATION DU MODELE : SVM SUR LE DATASET : Train]===============================\n",
            "1. MATRIC DE CONFUSION :\n",
            "[[232  13]\n",
            " [ 12  61]]\n",
            "\n",
            "2-1. ACCURACY SCORE : 92%\n",
            "\n",
            "2-2. TAUX D'ERREUR : 8%\n",
            "\n",
            "3. AUC : 97%\n",
            "\u001b[1m===============================[FIN EVALUATION DU MODELE : SVM SUR LE DATASET : Train]===============================\u001b[0m\n"
          ]
        }
      ],
      "source": [
        "roc_auc_svm_train, fpr_svm_train, tpr_svm_train = performance_modele( modele_name = \"SVM\",\n",
        "                                                                         modele = svm_modele,\n",
        "                                                                         dataset_name = \"Train\",\n",
        "                                                                         x_dataset = x_train,\n",
        "                                                                         y_dataset = y_train)"
      ]
    },
    {
      "cell_type": "markdown",
      "metadata": {
        "id": "lRKRB0p1_OlE"
      },
      "source": [
        "## - Performance du modèle sur la base de test"
      ]
    },
    {
      "cell_type": "markdown",
      "metadata": {
        "id": "5lcbgJ7M_OlE"
      },
      "source": [
        "<span style=\"color:red;font-weight: bolder\">Question :</span> Mesurer la performance du modèle **SVM** sur la base **test**.\n",
        "<em>Précisement, il faut remplacer les trois points (...) par le code Python correspondant</em>."
      ]
    },
    {
      "cell_type": "code",
      "execution_count": null,
      "metadata": {
        "id": "mcsWqf8O_OlE",
        "colab": {
          "base_uri": "https://localhost:8080/"
        },
        "outputId": "8ed9df0a-0b66-4a0e-b2c9-aef5cfe2b07b"
      },
      "outputs": [
        {
          "output_type": "stream",
          "name": "stdout",
          "text": [
            "\u001b[1m\n",
            "===============================[EVALUATION DU MODELE : SVM SUR LE DATASET : Test]===============================\n",
            "1. MATRIC DE CONFUSION :\n",
            "[[57  4]\n",
            " [ 5 14]]\n",
            "\n",
            "2-1. ACCURACY SCORE : 89%\n",
            "\n",
            "2-2. TAUX D'ERREUR : 11%\n",
            "\n",
            "3. AUC : 96%\n",
            "\u001b[1m===============================[FIN EVALUATION DU MODELE : SVM SUR LE DATASET : Test]===============================\u001b[0m\n"
          ]
        }
      ],
      "source": [
        "roc_auc_svm_test, fpr_svm_test, tpr_svm_test = performance_modele( modele_name = \"SVM\",\n",
        "                                                                         modele = svm_modele,\n",
        "                                                                         dataset_name = \"Test\",\n",
        "                                                                         x_dataset = x_test,\n",
        "                                                                         y_dataset = y_test)"
      ]
    },
    {
      "cell_type": "markdown",
      "metadata": {
        "id": "-_UL3LYS_OlE"
      },
      "source": [
        "**Conclusion :**\n",
        "Le modèle de SVM a un AUC de 97% sur la base de train et 96% sur la base de test. Cela ne représente pas un écart d’AUC entre le train et le test."
      ]
    },
    {
      "cell_type": "markdown",
      "metadata": {
        "id": "bKUFO8vC_OlE"
      },
      "source": [
        "# - Comparaison de modèles"
      ]
    },
    {
      "cell_type": "markdown",
      "metadata": {
        "id": "-Y5lzYGE_OlF"
      },
      "source": [
        "## - Courbe de roc sur la base train"
      ]
    },
    {
      "cell_type": "code",
      "execution_count": null,
      "metadata": {
        "id": "sYBCB0-g_OlF",
        "colab": {
          "base_uri": "https://localhost:8080/",
          "height": 34
        },
        "outputId": "4d741b2e-dab8-4759-ade6-0147d2cafd80"
      },
      "outputs": [
        {
          "output_type": "display_data",
          "data": {
            "text/plain": [
              "<Figure size 2000x1000 with 0 Axes>"
            ]
          },
          "metadata": {}
        }
      ],
      "source": [
        "#-Rétablir les paramètres d'affichage par défaut\n",
        "import matplotlib as mpl\n",
        "mpl.rcParams.update(mpl.rcParamsDefault)\n",
        "\n",
        "\n",
        "#Paramètre du graphique\n",
        "plt.figure(figsize = (20,10))\n",
        "lw = 2;"
      ]
    },
    {
      "cell_type": "markdown",
      "metadata": {
        "id": "Nol5qwp5_OlF"
      },
      "source": [
        "<span style=\"color:red;font-weight: bolder\">Question :</span> Tracer les courbes de performance des modèles sur la base **train**.\n",
        "<em>Précisement, il faut remplacer les trois points (...) par le code Python correspondant</em>."
      ]
    },
    {
      "cell_type": "code",
      "execution_count": null,
      "metadata": {
        "id": "8OwWzxmj_OlF",
        "colab": {
          "base_uri": "https://localhost:8080/",
          "height": 472
        },
        "outputId": "583f2efe-a178-4b1e-d079-d7b4fd4a37c1"
      },
      "outputs": [
        {
          "output_type": "display_data",
          "data": {
            "text/plain": [
              "<Figure size 640x480 with 1 Axes>"
            ],
            "image/png": "[encoded data removed]"
          },
          "metadata": {}
        }
      ],
      "source": [
        "#LOGISTIQUE : BASE TRAIN\n",
        "#La ligne trace la courbe de ROC du modèle de Régression Logistique\n",
        "plt.plot(fpr_logit_train, tpr_logit_train, color='blue', lw=lw, label='Logistique (AUC TRAIN = %0.2f)' % roc_auc_logit_train)\n",
        "\n",
        "#LGBM : BASE TRAIN\n",
        "#La ligne trace la courbe de ROC du modèle LGBM\n",
        "plt.plot(fpr_lgbm_train, tpr_lgbm_train, color='green', lw=lw, label='LGBM (AUC TRAIN = %0.2f)' % roc_auc_lgbm_train)\n",
        "\n",
        "\n",
        "#RF : BASE TRAIN\n",
        "#La ligne trace la courbe de ROC du modèle de Random Forest\n",
        "plt.plot(fpr_rf_train, tpr_rf_train, color='red', lw=lw, label='RF (AUC TRAIN = %0.2f)' % roc_auc_rf_train)\n",
        "\n",
        "\n",
        "#SVM : BASE TRAIN\n",
        "#La ligne trace la courbe de ROC du modèle du SVM\n",
        "plt.plot(fpr_svm_train, tpr_svm_train, color='black', lw=lw, label='SVM (AUC TRAIN = %0.2f)' % roc_auc_svm_train)\n",
        "\n",
        "\n",
        "\n",
        "#ECHELLE DES GRAPHIQUES\n",
        "plt.plot([0, 1], [0, 1], color='navy', lw=lw, linestyle='--')\n",
        "\n",
        "#TITRE DES GRAPHIQUES\n",
        "plt.xlabel('False Positive Rate') #titre de l'axe x\n",
        "plt.ylabel('True Positive Rate') #titre de l'axe y\n",
        "plt.title('ROC CURVE IN TRAIN DATA BASE') #titre du graphique\n",
        "plt.legend(loc=\"lower right\") #affichage de la légende\n",
        "\n",
        "#AFFICHAGE DU GRAPHIQUE\n",
        "plt.show()"
      ]
    },
    {
      "cell_type": "markdown",
      "metadata": {
        "id": "Zsbq7Mig_OlG"
      },
      "source": [
        "***Conclusion :\n",
        "le meilleur modèle sur la base train est le Boosting (LGBM)***"
      ]
    },
    {
      "cell_type": "markdown",
      "metadata": {
        "id": "o8DbNov7_OlG"
      },
      "source": [
        "## - Courbe de roc sur la base test"
      ]
    },
    {
      "cell_type": "markdown",
      "metadata": {
        "id": "X8u61Qp5_OlG"
      },
      "source": [
        "<span style=\"color:red;font-weight: bolder\">Question :</span> Tracer les courbes de performance des modèles sur la base **test**.\n",
        "<em>Précisement, il faut remplacer les trois points (...) par le code Python correspondant</em>."
      ]
    },
    {
      "cell_type": "code",
      "execution_count": null,
      "metadata": {
        "id": "DmKbk9Nv_OlG",
        "colab": {
          "base_uri": "https://localhost:8080/",
          "height": 472
        },
        "outputId": "52a2924a-5431-4c89-ffaf-d29d02230a0a"
      },
      "outputs": [
        {
          "output_type": "display_data",
          "data": {
            "text/plain": [
              "<Figure size 640x480 with 1 Axes>"
            ],
            "image/png": "[encoded data removed]"
          },
          "metadata": {}
        }
      ],
      "source": [
        "#LOGISTIQUE : BASE TEST\n",
        "#La ligne trace la courbe de ROC du modèle de Régression Logistique\n",
        "plt.plot(fpr_logit_test, tpr_logit_test, color='blue', lw=lw, label='Logistique (AUC TEST = %0.2f)' % roc_auc_logit_test)\n",
        "\n",
        "#LGBM : BASE TEST\n",
        "#La ligne trace la courbe de ROC du modèle LGBM\n",
        "plt.plot(fpr_lgbm_test, tpr_lgbm_test, color='green', lw=lw, label='LGBM (AUC TEST = %0.2f)' % roc_auc_lgbm_test)\n",
        "\n",
        "\n",
        "#RF : BASE TEST\n",
        "#La ligne trace la courbe de ROC du modèle de Random Forest\n",
        "plt.plot(fpr_rf_test, tpr_rf_test, color='red', lw=lw, label='RF (AUC TEST = %0.2f)' % roc_auc_rf_test)\n",
        "\n",
        "\n",
        "#SVM : BASE TEST\n",
        "#La ligne trace la courbe de ROC du modèle du SVM\n",
        "plt.plot(fpr_svm_test, tpr_svm_test, color='black', lw=lw, label='SVM (AUC TEST = %0.2f)' % roc_auc_svm_test)\n",
        "\n",
        "\n",
        "\n",
        "#ECHELLE DES GRAPHIQUES\n",
        "plt.plot([0, 1], [0, 1], color='navy', lw=lw, linestyle='--')\n",
        "\n",
        "#TITRE DES GRAPHIQUES\n",
        "plt.xlabel('False Positive Rate') #titre de l'axe x\n",
        "plt.ylabel('True Positive Rate') #titre de l'axe y\n",
        "plt.title('ROC CURVE IN TEST DATA BASE') #titre du graphique\n",
        "plt.legend(loc=\"lower right\") #affichage de la légende\n",
        "\n",
        "#AFFICHAGE DU GRAPHIQUE\n",
        "plt.show()"
      ]
    },
    {
      "cell_type": "markdown",
      "metadata": {
        "id": "qMpgbyq3_OlG"
      },
      "source": [
        "***Conclusion :\n",
        "les meilleurs modèles sur la base test est le Boosting (LGBM) et le le SVM"
      ]
    },
    {
      "cell_type": "markdown",
      "metadata": {
        "id": "ri_YyVbh_OlH"
      },
      "source": [
        "## - Choix du meilleur modèle"
      ]
    },
    {
      "cell_type": "markdown",
      "metadata": {
        "id": "UNmVovKi_OlH"
      },
      "source": [
        "\n",
        "\n",
        "* **Le meilleur modèle le plus performant est le Boosting (LGBM ) : la valeur AUC sur la Base train = 98% et sur la base test =96%. En conclusion, ce modèle sera utilisé pour les prédictions\n"
      ]
    },
    {
      "cell_type": "code",
      "source": [
        "predict_train=db_train.copy()\n",
        "predict_test=db_test.copy()"
      ],
      "metadata": {
        "id": "FLRgKzFww61W",
        "outputId": "5d93ddb6-1d10-4523-e1ab-e5d4562ea1db",
        "colab": {
          "base_uri": "https://localhost:8080/",
          "height": 184
        }
      },
      "execution_count": null,
      "outputs": [
        {
          "output_type": "error",
          "ename": "NameError",
          "evalue": "ignored",
          "traceback": [
            "\u001b[0;31m---------------------------------------------------------------------------\u001b[0m",
            "\u001b[0;31mNameError\u001b[0m                                 Traceback (most recent call last)",
            "\u001b[0;32m<ipython-input-1-fc3c6445233e>\u001b[0m in \u001b[0;36m<module>\u001b[0;34m\u001b[0m\n\u001b[0;32m----> 1\u001b[0;31m \u001b[0mpredict_train\u001b[0m\u001b[0;34m=\u001b[0m\u001b[0mdb_train\u001b[0m\u001b[0;34m.\u001b[0m\u001b[0mcopy\u001b[0m\u001b[0;34m(\u001b[0m\u001b[0;34m)\u001b[0m\u001b[0;34m\u001b[0m\u001b[0;34m\u001b[0m\u001b[0m\n\u001b[0m\u001b[1;32m      2\u001b[0m \u001b[0mpredict_test\u001b[0m\u001b[0;34m=\u001b[0m\u001b[0mdb_test\u001b[0m\u001b[0;34m.\u001b[0m\u001b[0mcopy\u001b[0m\u001b[0;34m(\u001b[0m\u001b[0;34m)\u001b[0m\u001b[0;34m\u001b[0m\u001b[0;34m\u001b[0m\u001b[0m\n",
            "\u001b[0;31mNameError\u001b[0m: name 'db_train' is not defined"
          ]
        }
      ]
    },
    {
      "cell_type": "code",
      "source": [
        "predict_train['y_pred_lgbm_train'] = lgbm_modele.predict(db_train[features])\n",
        "predict_test['y_pred_lgbm_test'] = lgbm_modele.predict(db_test[features])"
      ],
      "metadata": {
        "id": "q4lr8jRAw65A"
      },
      "execution_count": null,
      "outputs": []
    },
    {
      "cell_type": "code",
      "source": [
        "predict_train['y_pred_lgbm_train'] .to_excel(\"lgbmpredictions_sur_train.xlsx\")\n",
        "predict_test['y_pred_lgbm_test'].to_excel(\"lgbmpredictions_sur_test.xlsx\")"
      ],
      "metadata": {
        "id": "0lF2TylgxdFG"
      },
      "execution_count": null,
      "outputs": []
    },
    {
      "cell_type": "code",
      "source": [
        "# But du code : l'attribut feature_importances_ du modèle de sklearn rf_modele permet de savoir l'importance des variables.\n",
        "# En d'autres termes, nous pourrions connaître la contribution de chaque variable dans l'évaluation de la réponse Y (1 : crédit octroyé vs 0 crédit refusé).\n",
        "feat_importances = pd.Series(rf_modele.feature_importances_, index = features)\n",
        "\n",
        "# Trier l'importance par ordre décroissant.\n",
        "feat_importances = feat_importances.sort_values(ascending=True)\n",
        "\n",
        "# Afficher le graphique.\n",
        "feat_importances.plot(kind='barh')"
      ],
      "metadata": {
        "id": "7kqYpYRSvqn4"
      },
      "execution_count": null,
      "outputs": []
    },
    {
      "cell_type": "markdown",
      "source": [
        "### Conclusion"
      ],
      "metadata": {
        "id": "VDEe1yfexqI7"
      }
    },
    {
      "cell_type": "markdown",
      "source": [
        "e meilleur modèle le plus performant est le Boosting (LGBM ) : la valeur AUC sur la Base train = 98% et sur la base test =96%. Ainsi il n'était pas nécessaire d'avoir optimisation des modèles en ajoutant de nouvelles variables, en ajustant les paramètres (hyperparamètres) du modèle.\n",
        "L'objectif d'un modèle d'apprentissage automatique est de généraliser les modèles dans les données d'apprentissage afin que vous puissiez prédire correctement de nouvelles données qui n'ont jamais été présentées au modèle. Le Overfitting se produit lorsqu'un modèle s'ajuste de manière excessive aux données de Train. De cette façon, pour un ensemble de données avec seulement 398 échantillons, nous devons faire très attention à ne pas nous laisser berner par un Overfitting."
      ],
      "metadata": {
        "id": "Xt2JGiByxuDB"
      }
    },
    {
      "cell_type": "code",
      "source": [],
      "metadata": {
        "id": "hFJUrExB0Zqc"
      },
      "execution_count": null,
      "outputs": []
    }
  ],
  "metadata": {
    "kernelspec": {
      "display_name": "Python 3",
      "language": "python",
      "name": "python3"
    },
    "language_info": {
      "codemirror_mode": {
        "name": "ipython",
        "version": 3
      },
      "file_extension": ".py",
      "mimetype": "text/x-python",
      "name": "python",
      "nbconvert_exporter": "python",
      "pygments_lexer": "ipython3",
      "version": "3.8.5"
    },
    "latex_envs": {
      "LaTeX_envs_menu_present": true,
      "autoclose": false,
      "autocomplete": true,
      "bibliofile": "biblio.bib",
      "cite_by": "apalike",
      "current_citInitial": 1,
      "eqLabelWithNumbers": true,
      "eqNumInitial": 1,
      "hotkeys": {
        "equation": "Ctrl-E",
        "itemize": "Ctrl-I"
      },
      "labels_anchors": false,
      "latex_user_defs": false,
      "report_style_numbering": false,
      "user_envs_cfg": false
    },
    "toc": {
      "base_numbering": 1,
      "nav_menu": {},
      "number_sections": true,
      "sideBar": true,
      "skip_h1_title": false,
      "title_cell": "Table of Contents",
      "title_sidebar": "Contents",
      "toc_cell": true,
      "toc_position": {
        "height": "calc(100% - 180px)",
        "left": "10px",
        "top": "150px",
        "width": "459px"
      },
      "toc_section_display": true,
      "toc_window_display": true
    },
    "colab": {
      "provenance": [],
      "collapsed_sections": [
        "sIymz65r_Okl",
        "mnyLNrtm_Okm",
        "ZUZlUD0A_Okm",
        "pPzY_D1Z5myt",
        "-LgRaF5hsXa2",
        "UGdr0F5xsXa5",
        "Vn57GQDQ_Okq",
        "rwVxoPO1_Okq",
        "-2uVqjmn_Okr",
        "qET6eOxc_Oks",
        "6Or2Hv09_Oks",
        "DNrzUsUb_Oku",
        "VwROfFSm_Okw",
        "K9RysMYH_Okx",
        "j8HrMaqj_Ok2",
        "Hm-hBkj3_Ok3",
        "RFmCaIVX_Ok4",
        "VvHOQTII_Ok5",
        "I5qQ6DpL_Ok5",
        "PkVTu-BS_Ok5",
        "lSmqxKk1_Ok6",
        "ueiooJWb_Ok7",
        "Y9kuDS23_Ok8",
        "_op5CAhv_Ok_",
        "otrvWZIb_Ok_",
        "lLeMebui_OlA",
        "4qXt9FzW_OlA",
        "mFgcRM6v_OlB",
        "Epf7s8A6_OlC",
        "XXFY2ha4_OlD",
        "dO5lAKOI_OlD",
        "uiJNewky_OlD",
        "lRKRB0p1_OlE",
        "-Y5lzYGE_OlF",
        "o8DbNov7_OlG",
        "ri_YyVbh_OlH"
      ],
      "include_colab_link": true
    }
  },
  "nbformat": 4,
  "nbformat_minor": 0
}